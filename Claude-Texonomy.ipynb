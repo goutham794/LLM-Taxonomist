{
 "cells": [
  {
   "cell_type": "code",
   "execution_count": 1,
   "metadata": {},
   "outputs": [],
   "source": [
    "import polars as pl\n",
    "from base_claude import *\n",
    "from anthropic import Anthropic"
   ]
  },
  {
   "cell_type": "code",
   "execution_count": 2,
   "metadata": {},
   "outputs": [],
   "source": [
    "topics_df = pl.read_parquet(\"data/michelin_top_500_clusters_11.parquet\")\n",
    "final_topics_df = topics_df.select('cluster_label', 'cluster_description').unique()"
   ]
  },
  {
   "cell_type": "code",
   "execution_count": 3,
   "metadata": {},
   "outputs": [],
   "source": [
    "topics = final_topics_df['cluster_label'].to_list()\n",
    "descriptions = final_topics_df['cluster_description'].to_list()"
   ]
  },
  {
   "cell_type": "code",
   "execution_count": 4,
   "metadata": {},
   "outputs": [],
   "source": [
    "def chunk_list(group, n):\n",
    "    \"\"\"Yield successive n-sized chunks from the list.\"\"\"\n",
    "    for i in range(0, len(group), n):\n",
    "        yield group[i:i + n]"
   ]
  },
  {
   "cell_type": "code",
   "execution_count": 5,
   "metadata": {},
   "outputs": [],
   "source": [
    "leaf_topics = [LeafTopic(name=topic, description=description) for topic, description in zip(topics, descriptions)]\n",
    "\n",
    "leaf_topic_chunks = list(chunk_list(leaf_topics, 50))"
   ]
  },
  {
   "cell_type": "code",
   "execution_count": 6,
   "metadata": {},
   "outputs": [],
   "source": [
    "client = Anthropic()"
   ]
  },
  {
   "cell_type": "code",
   "execution_count": 7,
   "metadata": {},
   "outputs": [
    {
     "name": "stderr",
     "output_type": "stream",
     "text": [
      "\u001b[32m2024-11-26 23:09:27.674\u001b[0m | \u001b[34m\u001b[1mDEBUG   \u001b[0m | \u001b[36mbase_claude\u001b[0m:\u001b[36m_run\u001b[0m:\u001b[36m64\u001b[0m - \u001b[34m\u001b[1mPrompt: [{'role': 'system', 'content': 'You are a taxonomy expert in customer reviews. \\nYou are given a list of topics from the domain Tires and Tire Service.\\nYour task is to group these topics into high-level categories that make sense for a customer review analysis.\\n\\nGuidelines:\\n1) Every topic must be included in a category.\\n3) The category names should represent the all of the topics that belong to the category.\\n4) The categories should be distinct from each other.\\n5) The categories can vary in size.\\n\\nImportant:\\n- Do not leave any topics uncategorized.\\n- For outlier topics, create a new category for them.'}, {'role': 'user', 'content': '\\nTire Wear Issues\\n\\nTire Products\\n\\nVehicle Inspection Results\\n\\nFlat Tire Assistance\\n\\nTire Blowouts\\n\\nFlat Tire Support\\n\\nEngine Issues\\n\\nInstallation Problems\\n\\nWait Time Management\\n\\nSteering Issues\\n\\nTire Mounting\\n\\nWelding Quality\\n\\nTire Options\\n\\nService Failures\\n\\nOverheating Problems\\n\\nWorkshop Manager\\n\\nTire Service Effectiveness\\n\\nWheel Removal\\n\\nTire Cost-Effectiveness\\n\\nWarranty Management\\n\\nTire Replacement Timing\\n\\nAlignment Services\\n\\nComplimentary Beverages\\n\\nPothole Impact\\n\\nPuncture Repair Services\\n\\nSpeedy Tire Service\\n\\nTire Pressure Guidelines\\n\\nSpare Tire Management\\n\\nTire Material Quality\\n\\nTire Service Interventions\\n\\nInspection Scheduling\\n\\nShock Absorber Issues\\n\\nTyre Fitting Services\\n\\nService Execution\\n\\nMechanics Quality\\n\\nTire Sizing\\n\\nTire & Service Performance\\n\\nVehicle Tires\\n\\nTire Service Scheduling\\n\\nDefective Components\\n\\nDot Regulations\\n\\nAppointment Punctuality\\n\\nTire Expertise\\n\\nTire Fitting Services\\n\\nTire Insurance Services\\n\\nSupplier Management\\n\\nPickup And Drop-Off\\n\\nBreakdown Assistance\\n\\nEngine Performance\\n\\nService Delays\\n'}]\u001b[0m\n",
      "\u001b[32m2024-11-26 23:09:39.489\u001b[0m | \u001b[1mINFO    \u001b[0m | \u001b[36mbase_claude\u001b[0m:\u001b[36m_run\u001b[0m:\u001b[36m106\u001b[0m - \u001b[1mSuccessfully validated Categorizer_Agent in attempt 1.\u001b[0m\n"
     ]
    }
   ],
   "source": [
    "categorizer_agent = Categorizer_Agent(client, domain=\"Tires and Tire Service\", model_name=\"gpt-4o\")\n",
    "\n",
    "response = categorizer_agent.process(leaf_topic_chunks[0])"
   ]
  },
  {
   "cell_type": "code",
   "execution_count": 8,
   "metadata": {},
   "outputs": [
    {
     "data": {
      "text/plain": [
       "[Category(name='Tire Products and Specifications', topics=['Tire Products', 'Tire Options', 'Tire Material Quality', 'Tire Sizing', 'Vehicle Tires', 'Dot Regulations']),\n",
       " Category(name='Tire Service Operations', topics=['Tire Mounting', 'Tire Fitting Services', 'Tyre Fitting Services', 'Service Execution', 'Tire Service Effectiveness', 'Tire & Service Performance', 'Service Failures', 'Service Delays', 'Speedy Tire Service', 'Installation Problems']),\n",
       " Category(name='Emergency and Support Services', topics=['Flat Tire Assistance', 'Flat Tire Support', 'Breakdown Assistance', 'Puncture Repair Services', 'Tire Service Interventions']),\n",
       " Category(name='Maintenance and Safety Issues', topics=['Tire Wear Issues', 'Tire Blowouts', 'Pothole Impact', 'Tire Pressure Guidelines', 'Spare Tire Management', 'Tire Replacement Timing']),\n",
       " Category(name='Service Management and Scheduling', topics=['Wait Time Management', 'Inspection Scheduling', 'Tire Service Scheduling', 'Appointment Punctuality', 'Pickup And Drop-Off']),\n",
       " Category(name='Additional Vehicle Services', topics=['Vehicle Inspection Results', 'Alignment Services', 'Wheel Removal']),\n",
       " Category(name='Staff and Expertise', topics=['Workshop Manager', 'Mechanics Quality', 'Tire Expertise']),\n",
       " Category(name='Customer Support and Services', topics=['Warranty Management', 'Tire Insurance Services', 'Tire Cost-Effectiveness', 'Supplier Management', 'Complimentary Beverages']),\n",
       " Category(name='Vehicle System Issues', topics=['Engine Issues', 'Steering Issues', 'Overheating Problems', 'Shock Absorber Issues', 'Defective Components', 'Engine Performance', 'Welding Quality'])]"
      ]
     },
     "execution_count": 8,
     "metadata": {},
     "output_type": "execute_result"
    }
   ],
   "source": [
    "response.categories"
   ]
  },
  {
   "cell_type": "code",
   "execution_count": 7,
   "metadata": {},
   "outputs": [
    {
     "name": "stderr",
     "output_type": "stream",
     "text": [
      "\u001b[32m2024-11-25 22:55:42.398\u001b[0m | \u001b[34m\u001b[1mDEBUG   \u001b[0m | \u001b[36mbase_claude\u001b[0m:\u001b[36m_run\u001b[0m:\u001b[36m64\u001b[0m - \u001b[34m\u001b[1mPrompt: [{'role': 'system', 'content': 'You are a taxonomy expert in customer reviews. \\nYou are given a list of topics and descriptions from the domain Tires and Tire Service.\\nYour task is to group these topics into high-level categories that make sense for a customer review analysis.\\n\\nGuidelines:\\n1) Every topic must be included in a category.\\n2) Each category should have a name and a one-sentence description.\\n3) The category names should represent the all of the topics that belong to the category.\\n4) The categories should be distinct from each other.\\n5) The categories can vary in size.\\n\\nImportant:\\n- Do not leave any topics uncategorized.\\n- For outlier topics, create a new category for them.'}, {'role': 'user', 'content': \"\\nTire Inspection: The systematic evaluation and examination of tires for condition, safety, and performance..\\n\\nTire Policies: A comprehensive overview of various policies relating to tire changes, servicing, and age regulations..\\n\\nTire Patch Services: The various methods and services related to repairing tires using patches..\\n\\nTire Issue Diagnosis: The process and methods used to identify problems related to tires and their services..\\n\\nDelivery Delays: A collection of issues related to the late arrival of tire orders..\\n\\nTire Valve Services: The various services related to the replacement, repair, and maintenance of tire valves..\\n\\nSpecialized Vehicle Tires: Tires designed for specific types of vehicles, including trailers, vans, and campers..\\n\\nCompetitor Analysis: An evaluation of service quality, pricing, and experiences compared to various competing tire service providers..\\n\\nVehicle Tires: Tires designed for various types of vehicles including trucks, buses, SUVs, and agricultural equipment..\\n\\nWheel Issues: Various problems and concerns relating to the performance and functionality of vehicle wheels..\\n\\nTyre Installation: The comprehensive process of fitting new tyres onto vehicles..\\n\\nParts Accessibility: The overall availability and ease of obtaining necessary parts for vehicle service and repairs..\\n\\nFleet Management: The comprehensive administration and oversight of a company's vehicle fleet..\\n\\nSuspension Services: Comprehensive care, inspection, repair, and adjustment related to a vehicle's suspension system..\\n\\nEngine Issues: A collection of problems and failures related to vehicle engines, including malfunctions, breakdowns, and the need for repairs or replacements..\\n\\nWarranty Management: The comprehensive handling, coverage, and processes associated with warranty claims and services for automotive products..\\n\\nWorkshop Accessibility: Accessibility and availability of workshops providing tire alignment and related services..\\n\\nBusiness Operating Hours: The scheduled times during which the tire service is available to customers, including details about accuracy and special operational times..\\n\\nTire Expertise: The comprehensive knowledge and skill demonstrated by service providers regarding tire services and selection..\\n\\nVehicle Recovery: A comprehensive service focusing on the retrieval and assistance of inoperable or stranded vehicles..\\n\\nCraftsmanship Quality: The overall skill and attention to detail exhibited in tire manufacturing and service..\\n\\nFlat Tire Support: Assistance and solutions provided to customers for handling flat tire situations..\\n\\nTire Alignment: The service and process of adjusting the angles of the tires to ensure proper contact with the road, handling, and tire wear..\\n\\nTire Reliability: The consistent dependability and performance of tires under various conditions without problems..\\n\\nTire Balancing Issues: Problems related to the improper distribution of weight in tires affecting vehicle stability and performance..\\n\\nTire Removal Process: The various methods and actions involved in the removal of tires from vehicles..\\n\\nProduct Durability: The overall duration and effectiveness of various vehicle components before they require replacement..\\n\\nFuel Efficiency: This topic focuses on the measurement and improvement of fuel consumption related to tire performance..\\n\\nInstallation Challenges: Issues and difficulties encountered during the installation of various automotive parts..\\n\\nClutch Services: All aspects related to the maintenance, replacement, and servicing of vehicle clutch systems..\\n\\nVisual Evidence: The practice of using photographs to support claims regarding the condition and handling of tires..\\n\\nCustomer Coffee Experience: The provision of coffee as a complimentary service to enhance customer comfort and experience..\\n\\nCalibration Services: The comprehensive process of adjusting and fine-tuning various vehicle systems for optimal performance and accuracy..\\n\\nFlat Tire Repair: The overall process and methods involved in fixing flat tires across various scenarios..\\n\\nTire Pressure Issues: Concerns related to the maintenance and loss of air pressure in tires affecting performance and safety..\\n\\nTire Security Components: Specialized hardware and tools designed to prevent the theft of tires and wheels..\\n\\nHubcap Issues: All topics relate to problems and incidents involving hubcaps during tire service..\\n\\nEquipment Quality: A comprehensive overview of the standards, reliability, and effectiveness of tools and machinery utilized in service..\\n\\nAir Conditioning Recharge: The comprehensive process and service of refilling refrigerant in vehicle air conditioning systems..\\n\\nTyre Availability: The status and accessibility of specific tyres available for customers..\\n\\nTire Damage Issues: Discusses problems related to screws embedded in tires causing potential damage and the need for repair..\\n\\nTire Mismanagement: Issues related to the receipt and installation of incorrect or unsuitable tires..\\n\\nAlignment Quality: The overall effectiveness, precision, and assessment of the tire alignment service provided to vehicles..\\n\\nCustomer-Centric Sales: A sales approach that prioritizes understanding and addressing customer needs while avoiding aggressive and unnecessary selling tactics..\\n\\nMechanic Expertise: The overall skill, professionalism, and reliability of mechanics providing automotive services..\\n\\nLeak Issues: A collection of customer concerns pertaining to various types of leaks in tires and vehicle systems..\\n\\nElectric Vehicles: All references relate to electric vehicles and their specific needs and characteristics..\\n\\nSqueaking Noises: A collection of issues related to persistent and recurring noises from tires and wheels, indicating potential problems..\\n\\nRepair Services: The overall quality and expertise in providing professional repair services for vehicles..\\n\\nMot Failure: The common issue of vehicles not passing the Ministry of Transport test due to various safety and mechanical problems..\\n\"}]\u001b[0m\n",
      "\u001b[32m2024-11-25 22:55:54.101\u001b[0m | \u001b[33m\u001b[1mWARNING \u001b[0m | \u001b[36mbase_claude\u001b[0m:\u001b[36m_validate_response\u001b[0m:\u001b[36m175\u001b[0m - \u001b[33m\u001b[1mNot all topics were included in a category by the Categorizer Agent. Will be re-tried if attempts remain.\u001b[0m\n",
      "\u001b[32m2024-11-25 22:55:54.102\u001b[0m | \u001b[33m\u001b[1mWARNING \u001b[0m | \u001b[36mbase_claude\u001b[0m:\u001b[36m_validate_response\u001b[0m:\u001b[36m177\u001b[0m - \u001b[33m\u001b[1mMissing topics: ['Tire Inspection', 'Tire Policies', 'Tire Issue Diagnosis', 'Delivery Delays', 'Tire Valve Services', 'Specialized Vehicle Tires', 'Vehicle Tires', 'Tyre Installation', 'Parts Accessibility', 'Fleet Management', 'Suspension Services', 'Engine Issues', 'Warranty Management', 'Workshop Accessibility', 'Business Operating Hours', 'Tire Expertise', 'Vehicle Recovery', 'Craftsmanship Quality', 'Flat Tire Support', 'Tire Alignment', 'Tire Balancing Issues', 'Tire Removal Process', 'Fuel Efficiency', 'Installation Challenges', 'Clutch Services', 'Visual Evidence', 'Customer Coffee Experience', 'Calibration Services', 'Flat Tire Repair', 'Tire Pressure Issues', 'Tire Security Components', 'Hubcap Issues', 'Equipment Quality', 'Air Conditioning Recharge', 'Tire Damage Issues', 'Tire Mismanagement', 'Alignment Quality', 'Customer-Centric Sales', 'Mechanic Expertise', 'Leak Issues', 'Electric Vehicles', 'Squeaking Noises', 'Repair Services', 'Mot Failure']\u001b[0m\n",
      "\u001b[32m2024-11-25 22:55:54.102\u001b[0m | \u001b[33m\u001b[1mWARNING \u001b[0m | \u001b[36mbase_claude\u001b[0m:\u001b[36m_run\u001b[0m:\u001b[36m104\u001b[0m - \u001b[33m\u001b[1mFailed Validation in attempt 1. Retrying...\u001b[0m\n",
      "\u001b[32m2024-11-25 22:56:06.453\u001b[0m | \u001b[33m\u001b[1mWARNING \u001b[0m | \u001b[36mbase_claude\u001b[0m:\u001b[36m_validate_response\u001b[0m:\u001b[36m175\u001b[0m - \u001b[33m\u001b[1mNot all topics were included in a category by the Categorizer Agent. Will be re-tried if attempts remain.\u001b[0m\n",
      "\u001b[32m2024-11-25 22:56:06.454\u001b[0m | \u001b[33m\u001b[1mWARNING \u001b[0m | \u001b[36mbase_claude\u001b[0m:\u001b[36m_validate_response\u001b[0m:\u001b[36m177\u001b[0m - \u001b[33m\u001b[1mMissing topics: ['Tire Inspection', 'Tire Policies', 'Tire Issue Diagnosis', 'Delivery Delays', 'Tire Valve Services', 'Specialized Vehicle Tires', 'Vehicle Tires', 'Tyre Installation', 'Parts Accessibility', 'Fleet Management', 'Suspension Services', 'Engine Issues', 'Warranty Management', 'Workshop Accessibility', 'Business Operating Hours', 'Tire Expertise', 'Vehicle Recovery', 'Craftsmanship Quality', 'Flat Tire Support', 'Tire Alignment', 'Tire Balancing Issues', 'Tire Removal Process', 'Fuel Efficiency', 'Installation Challenges', 'Clutch Services', 'Visual Evidence', 'Customer Coffee Experience', 'Calibration Services', 'Flat Tire Repair', 'Tire Pressure Issues', 'Tire Security Components', 'Hubcap Issues', 'Equipment Quality', 'Air Conditioning Recharge', 'Tire Damage Issues', 'Tire Mismanagement', 'Alignment Quality', 'Customer-Centric Sales', 'Mechanic Expertise', 'Leak Issues', 'Electric Vehicles', 'Squeaking Noises', 'Repair Services', 'Mot Failure']\u001b[0m\n",
      "\u001b[32m2024-11-25 22:56:06.454\u001b[0m | \u001b[33m\u001b[1mWARNING \u001b[0m | \u001b[36mbase_claude\u001b[0m:\u001b[36m_run\u001b[0m:\u001b[36m104\u001b[0m - \u001b[33m\u001b[1mFailed Validation in attempt 2. Retrying...\u001b[0m\n",
      "\u001b[32m2024-11-25 22:56:19.187\u001b[0m | \u001b[33m\u001b[1mWARNING \u001b[0m | \u001b[36mbase_claude\u001b[0m:\u001b[36m_validate_response\u001b[0m:\u001b[36m175\u001b[0m - \u001b[33m\u001b[1mNot all topics were included in a category by the Categorizer Agent. Will be re-tried if attempts remain.\u001b[0m\n",
      "\u001b[32m2024-11-25 22:56:19.189\u001b[0m | \u001b[33m\u001b[1mWARNING \u001b[0m | \u001b[36mbase_claude\u001b[0m:\u001b[36m_validate_response\u001b[0m:\u001b[36m177\u001b[0m - \u001b[33m\u001b[1mMissing topics: ['Tire Inspection', 'Tire Policies', 'Tire Issue Diagnosis', 'Delivery Delays', 'Tire Valve Services', 'Specialized Vehicle Tires', 'Vehicle Tires', 'Tyre Installation', 'Parts Accessibility', 'Fleet Management', 'Suspension Services', 'Engine Issues', 'Warranty Management', 'Workshop Accessibility', 'Business Operating Hours', 'Tire Expertise', 'Vehicle Recovery', 'Craftsmanship Quality', 'Flat Tire Support', 'Tire Alignment', 'Tire Balancing Issues', 'Tire Removal Process', 'Fuel Efficiency', 'Installation Challenges', 'Clutch Services', 'Visual Evidence', 'Customer Coffee Experience', 'Calibration Services', 'Flat Tire Repair', 'Tire Pressure Issues', 'Tire Security Components', 'Hubcap Issues', 'Equipment Quality', 'Air Conditioning Recharge', 'Tire Damage Issues', 'Tire Mismanagement', 'Alignment Quality', 'Customer-Centric Sales', 'Mechanic Expertise', 'Leak Issues', 'Electric Vehicles', 'Squeaking Noises', 'Repair Services', 'Mot Failure']\u001b[0m\n",
      "\u001b[32m2024-11-25 22:56:19.189\u001b[0m | \u001b[33m\u001b[1mWARNING \u001b[0m | \u001b[36mbase_claude\u001b[0m:\u001b[36m_run\u001b[0m:\u001b[36m104\u001b[0m - \u001b[33m\u001b[1mFailed Validation in attempt 3. Retrying...\u001b[0m\n",
      "\u001b[32m2024-11-25 22:56:19.190\u001b[0m | \u001b[31m\u001b[1mERROR   \u001b[0m | \u001b[36mbase_claude\u001b[0m:\u001b[36m_run\u001b[0m:\u001b[36m110\u001b[0m - \u001b[31m\u001b[1mFailed Validation after 3 attempts. Ending...\u001b[0m\n"
     ]
    }
   ],
   "source": [
    "categorizer_agent = Categorizer_Agent(client, domain=\"Tires and Tire Service\", model_name=\"gpt-4o\")\n",
    "\n",
    "response = categorizer_agent.process(leaf_topic_chunks[0])"
   ]
  },
  {
   "cell_type": "code",
   "execution_count": 10,
   "metadata": {},
   "outputs": [
    {
     "data": {
      "text/plain": [
       "[Category(name='Tire Services and Maintenance', description='All aspects of tire-related services including installation, repair, inspection, and seasonal changes', topics=['Tyre Fitting Services', 'Tyre Repair Services', 'Tire Repair Methods', 'Tire Patch Services', 'Puncture Repair Services', 'Tire Service Response', 'Winter Tire Installation', 'Seasonal Tire Change', 'Tyre Inspection', 'Tire Pressure Guidelines', 'Tyre Availability', 'Spare Tire Issues']),\n",
       " Category(name='Pricing and Value', description='Topics related to service costs, pricing transparency, and value assessment', topics=['Pricing Clarity', 'Service Pricing', 'Affordable Pricing', 'Cost Affordability', 'Quality-Price Ratio', 'Pricing Comparison', 'Competitor Analysis']),\n",
       " Category(name='Vehicle Performance Issues', description='Various mechanical and performance-related concerns in vehicles', topics=['Brake Issues', 'Steering Issues', 'Suspension Spring Issues', 'Air Conditioning Effectiveness', 'Vehicle Failures', 'Product Defects', 'Wheel Issues', 'Gasket Mechanics']),\n",
       " Category(name='Service Quality and Management', description='Aspects related to service delivery, customer support, and maintenance management', topics=['Customer Support', 'Service Failures', 'Maintenance Management', 'Performance Evaluation', 'Tesla Service Expertise', 'Pickup And Drop-Off', 'Mechanical Repair Services', 'Filter Maintenance', 'Engine Oil Management']),\n",
       " Category(name='Diagnostic and Warning Systems', description='Topics covering vehicle diagnostics and warning indicators', topics=['Diagnosis Accuracy', 'Dashboard Warning Lights', 'Engine Warning Indicators', 'Vehicle Inspection Results']),\n",
       " Category(name='Tire and Wheel Technical Issues', description='Specific technical problems and concerns related to tires and wheels', topics=['Tire Problems', 'Tire Puncture Issues', 'Wheel Nut Issues', 'Nut Tightening', 'Torque Tools', 'Assembly And Disassembly', 'Tire Reliability', 'Product Durability']),\n",
       " Category(name='Brake System Services', description='Services and issues specific to vehicle brake systems', topics=['Brake Pad Replacement'])]"
      ]
     },
     "execution_count": 10,
     "metadata": {},
     "output_type": "execute_result"
    }
   ],
   "source": [
    "response.categories"
   ]
  },
  {
   "cell_type": "code",
   "execution_count": 11,
   "metadata": {},
   "outputs": [
    {
     "data": {
      "text/plain": [
       "[LeafTopic(name='Vehicle Safety Assurance', description='A focus on ensuring the safety and reliability of vehicles after maintenance and service.'),\n",
       " LeafTopic(name='Motorhome Services', description='Comprehensive services and expertise related to the maintenance and care of motorhomes.'),\n",
       " LeafTopic(name='Ac Inspection Services', description=\"An overview of various assessments and diagnostics performed on a vehicle's air conditioning system.\"),\n",
       " LeafTopic(name='Service Timeliness', description='The overall promptness and punctuality of the service provided to customers.'),\n",
       " LeafTopic(name='Component Damage', description='Issues related to the damage or deterioration of vehicle components during service.'),\n",
       " LeafTopic(name='Tire Speed Ratings', description=\"This topic encompasses the classification and recording of a tire's maximum speed capability, critical for safety and performance.\"),\n",
       " LeafTopic(name='Handbrake Issues', description='Concerns and maintenance related to the functionality and repair of vehicle handbrakes.'),\n",
       " LeafTopic(name='New Rims', description='This topic covers all aspects related to the purchase and installation of new rims for vehicles.'),\n",
       " LeafTopic(name='Workshop Professionalism', description='The overall standard of professionalism and expertise demonstrated by the staff during the workshop.'),\n",
       " LeafTopic(name='Tire Replacement Timing', description='The various aspects related to the duration and scheduling of tire replacements for optimal vehicle performance.'),\n",
       " LeafTopic(name='Air Conditioning Service', description='Comprehensive services involving the maintenance, repair, and refilling of vehicle air conditioning systems.'),\n",
       " LeafTopic(name='Tire Pressure Guidelines', description='Comprehensive recommendations and specifications regarding tire air pressure for optimal performance.'),\n",
       " LeafTopic(name='Workshop Staff Quality', description='This topic encompasses the overall quality, performance, and service provided by the workshop personnel.'),\n",
       " LeafTopic(name='Tire Service Scheduling', description='The process and importance of scheduling appointments for various tire-related services.'),\n",
       " LeafTopic(name='Welding Quality', description='Concerns the integrity, craftsmanship, and techniques involved in welding services across various applications.'),\n",
       " LeafTopic(name='Tire Handling Performance', description='This topic encompasses the overall performance and management of vehicle handling characteristics related to tire use and service.'),\n",
       " LeafTopic(name='Brake Calipers', description='The essential components of the braking system responsible for clamping brake pads to ensure vehicle safety and performance.'),\n",
       " LeafTopic(name='Vehicle Diagnostics', description='The comprehensive assessment and identification of issues within vehicles using various tools and methods.'),\n",
       " LeafTopic(name='Hubcap Issues', description='All topics relate to problems and incidents involving hubcaps during tire service.'),\n",
       " LeafTopic(name='Repair Refusals', description='A collection of customer experiences regarding denials and refusals to perform necessary vehicle repairs.'),\n",
       " LeafTopic(name='Reception Area Quality', description='A comprehensive overview of the condition, cleanliness, and amenities of the reception area as experienced by customers.'),\n",
       " LeafTopic(name='Tire Delivery Services', description='The comprehensive range of services related to the transportation and delivery of tires to customers and designated locations.'),\n",
       " LeafTopic(name='Invoice Management', description='The processes and challenges related to the creation, accuracy, transparency, and handling of invoices.'),\n",
       " LeafTopic(name='Tire Sizing', description='Concerns related to the dimensions and availability of tires in various sizes, including standard and custom specifications.'),\n",
       " LeafTopic(name='Tire Material Quality', description='This topic encompasses the standards and characteristics of materials used in tire manufacturing and services.'),\n",
       " LeafTopic(name='Fleet Management', description=\"The comprehensive administration and oversight of a company's vehicle fleet.\"),\n",
       " LeafTopic(name='Vehicle Failures', description='Various incidents of unexpected breakdowns and malfunctions affecting vehicle operation.'),\n",
       " LeafTopic(name='Alignment Services', description='The range of services related to adjusting and correcting vehicle wheel alignment.'),\n",
       " LeafTopic(name='Vehicle Condition', description='An assessment of the overall state, maintenance, and performance of vehicles before and after service.'),\n",
       " LeafTopic(name='Complimentary Beverages', description='The provision of free drinks to enhance customer experience.'),\n",
       " LeafTopic(name='Tire Products', description='This topic encompasses all aspects related to various types of tires and wheels as discussed in customer reviews.'),\n",
       " LeafTopic(name='Locking Nuts', description='A category of specialized nuts designed to secure tires and prevent theft.'),\n",
       " LeafTopic(name='Tire Air Loss', description='The common issue of tires losing air pressure, impacting performance and safety.'),\n",
       " LeafTopic(name='Tire Service Experience', description=\"A comprehensive overview of customers' interactions, satisfaction, and overall experiences with tire service providers.\"),\n",
       " LeafTopic(name='Vehicle Cleanliness', description='The overall condition and cleanliness of the vehicle before and after service, including interior and upholstery standards.'),\n",
       " LeafTopic(name='Urgent Tire Repair', description='Services focused on providing immediate assistance for tire-related issues in emergency situations.'),\n",
       " LeafTopic(name='Service Failures', description='A collection of issues highlighting inadequate skills, poor organization, and lack of accountability in service delivery.'),\n",
       " LeafTopic(name='Spare Parts Availability', description='A comprehensive overview of the accessibility and recommendations for spare parts in vehicle maintenance.'),\n",
       " LeafTopic(name='Service Scheduling', description='The practice of arranging and managing appointments for vehicle maintenance and related services.'),\n",
       " LeafTopic(name='Tire Service Assessment', description='A comprehensive evaluation process for tire service quality and condition analysis.'),\n",
       " LeafTopic(name='Paint Damage Issues', description=\"Concerns related to the various types of damages and imperfections affecting a vehicle's paint surface.\"),\n",
       " LeafTopic(name='Egr System Issues', description='A collection of problems and services related to the EGR system and its pipes in vehicles.'),\n",
       " LeafTopic(name='Vehicle Tires', description='Tires designed for various types of vehicles including trucks, buses, SUVs, and agricultural equipment.'),\n",
       " LeafTopic(name='Rim Care Practices', description='Best practices for handling, maintaining, and protecting vehicle rims during service.'),\n",
       " LeafTopic(name='Air Conditioning Effectiveness', description='The overall performance and functionality of the air conditioning system in vehicles, focusing on its ability to provide cool air efficiently.'),\n",
       " LeafTopic(name='Engine Oil Management', description='The comprehensive assessment and concerns regarding the type, level, condition, and quality of engine oil in vehicles.'),\n",
       " LeafTopic(name='Air Conditioning Problems', description='This topic encompasses various customer-reported issues and malfunctions related to air conditioning systems.'),\n",
       " LeafTopic(name='Defect Concerns', description='Customer concerns and skepticism regarding various defects and flaws identified in their vehicles, particularly tires.'),\n",
       " LeafTopic(name='Fuel Efficiency', description='This topic focuses on the measurement and improvement of fuel consumption related to tire performance.'),\n",
       " LeafTopic(name='Wheel Repair Services', description='A collection of services dedicated to the repair and maintenance of various types of wheels.')]"
      ]
     },
     "execution_count": 11,
     "metadata": {},
     "output_type": "execute_result"
    }
   ],
   "source": [
    "leaf_topic_chunks[0]\n"
   ]
  }
 ],
 "metadata": {
  "kernelspec": {
   "display_name": ".venv",
   "language": "python",
   "name": "python3"
  },
  "language_info": {
   "codemirror_mode": {
    "name": "ipython",
    "version": 3
   },
   "file_extension": ".py",
   "mimetype": "text/x-python",
   "name": "python",
   "nbconvert_exporter": "python",
   "pygments_lexer": "ipython3",
   "version": "3.12.0"
  }
 },
 "nbformat": 4,
 "nbformat_minor": 2
}
