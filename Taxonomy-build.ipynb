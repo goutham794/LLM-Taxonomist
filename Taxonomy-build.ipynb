{
 "cells": [
  {
   "cell_type": "code",
   "execution_count": 1,
   "metadata": {},
   "outputs": [],
   "source": [
    "import polars as pl\n",
    "# from openai import OpenAI\n",
    "from base import *"
   ]
  },
  {
   "cell_type": "code",
   "execution_count": 2,
   "metadata": {},
   "outputs": [],
   "source": [
    "topics_df = pl.read_parquet(\"data/michelin_top_500_clusters_11.parquet\")\n",
    "final_topics_df = topics_df.select('cluster_label', 'cluster_description').unique()"
   ]
  },
  {
   "cell_type": "code",
   "execution_count": 3,
   "metadata": {},
   "outputs": [],
   "source": [
    "client = OpenAI()"
   ]
  },
  {
   "cell_type": "code",
   "execution_count": 4,
   "metadata": {},
   "outputs": [],
   "source": [
    "topics = final_topics_df['cluster_label'].to_list()\n",
    "descriptions = final_topics_df['cluster_description'].to_list()"
   ]
  },
  {
   "cell_type": "code",
   "execution_count": 5,
   "metadata": {},
   "outputs": [],
   "source": [
    "def chunk_list(group, n):\n",
    "    \"\"\"Yield successive n-sized chunks from the list.\"\"\"\n",
    "    for i in range(0, len(group), n):\n",
    "        yield group[i:i + n]"
   ]
  },
  {
   "cell_type": "code",
   "execution_count": 6,
   "metadata": {},
   "outputs": [],
   "source": [
    "leaf_topics = [LeafTopic(name=topic, description=description) for topic, description in zip(topics, descriptions)]\n",
    "\n",
    "leaf_topic_chunks = list(chunk_list(leaf_topics, 50))"
   ]
  },
  {
   "cell_type": "code",
   "execution_count": 7,
   "metadata": {},
   "outputs": [
    {
     "name": "stderr",
     "output_type": "stream",
     "text": [
      "\u001b[32m2024-11-26 23:08:09.786\u001b[0m | \u001b[34m\u001b[1mDEBUG   \u001b[0m | \u001b[36mbase\u001b[0m:\u001b[36m_run\u001b[0m:\u001b[36m64\u001b[0m - \u001b[34m\u001b[1mPrompt: [{'role': 'system', 'content': 'You are a taxonomy expert in customer reviews. \\nYou are given a list of topics and descriptions from the domain Tires and Tire Service.\\nYour task is to group these topics into high-level categories that make sense for a customer review analysis.\\n\\nGuidelines:\\n1) Every topic must be included in a category.\\n2) Each category should have a name and a one-sentence description.\\n3) The category names should represent the all of the topics that belong to the category.\\n4) The categories should be distinct from each other.\\n5) The categories can vary in size.\\n\\nImportant:\\n- Do not leave any topics uncategorized.\\n- For outlier topics, create a new category for them.'}, {'role': 'user', 'content': \"\\nOnline Tire Booking: A comprehensive approach to scheduling tire services through digital platforms..\\n\\nTire Patch Services: The various methods and services related to repairing tires using patches..\\n\\nMechanic Expertise: The overall skill, professionalism, and reliability of mechanics providing automotive services..\\n\\nVehicle Performance: The overall functionality, reliability, and efficiency of a vehicle after maintenance or service..\\n\\nTire Policies: A comprehensive overview of various policies relating to tire changes, servicing, and age regulations..\\n\\nParking Availability: Assessment of the availability and accessibility of parking spaces for customers..\\n\\nTire Fitting Experience: An encapsulation of the process and overall experience of installing tires on a vehicle..\\n\\nTire Technician Expertise: The collective skills and expertise of technicians involved in tire servicing and installation..\\n\\nTire Replacement: The process and strategies involved in replacing tires and related components..\\n\\nBrake Evaluations: A comprehensive overview of processes involved in assessing the condition and performance of a vehicle's braking system..\\n\\nWeekend Services: The availability and convenience of tire repair services during weekends, including Saturdays and Sundays..\\n\\nBusiness Operating Hours: The scheduled times during which the tire service is available to customers, including details about accuracy and special operational times..\\n\\nTire Defect Detection: The systematic process of identifying and communicating defects or potential problems in tires..\\n\\nService Denial Issues: Experiences and instances of customers being denied service or assistance by providers..\\n\\nEngine Performance: An overview of the functionality, efficiency, and smooth operation of a vehicle's engine, along with RPM-related observations and concerns..\\n\\nWheel Replacement: The process of changing or substituting wheels on various types of vehicles..\\n\\nTire Change Efficiency: The overall effectiveness and quickness of tire change services provided..\\n\\nTurbo Issues: This topic covers various problems and services related to turbochargers, including defects, replacements, and quality assessments..\\n\\nBrake System Parts: The essential components of a vehicle's braking system that require maintenance and replacement..\\n\\nClutch Services: All aspects related to the maintenance, replacement, and servicing of vehicle clutch systems..\\n\\nLocking Nuts: A category of specialized nuts designed to secure tires and prevent theft..\\n\\nVehicle Noise Issues: A collection of customer concerns regarding various disturbing sounds related to vehicle performance..\\n\\nWorkshop Professionalism: The overall standard of professionalism and expertise demonstrated by the staff during the workshop..\\n\\nTyre Availability: The status and accessibility of specific tyres available for customers..\\n\\nTire Change Services: The overall standard of service quality associated with tire change and maintenance processes..\\n\\nAppointment Wait Times: The overall delays and duration customers experience while waiting for service appointments..\\n\\nAlignment Quality: The overall effectiveness, precision, and assessment of the tire alignment service provided to vehicles..\\n\\nAppointment Punctuality: The importance and adherence to scheduled appointment times and promptness of service delivery..\\n\\nTire Acquisition: The process of buying various tire-related products and accessories for vehicles..\\n\\nVehicle Warning Indicators: A collective term for various alerts and lights on a vehicle's dashboard indicating potential issues or malfunctions..\\n\\nAir Conditioning Recharge: The comprehensive process and service of refilling refrigerant in vehicle air conditioning systems..\\n\\nCraftsmanship Quality: The overall skill and attention to detail exhibited in tire manufacturing and service..\\n\\nEngine Oil Management: The comprehensive assessment and concerns regarding the type, level, condition, and quality of engine oil in vehicles..\\n\\nGeometry Adjustment: The collective processes and services related to the alignment and adjustment of a vehicle's suspension and tire geometry for optimal performance..\\n\\nTool Effectiveness: The overall performance and quality of tools used in tire services..\\n\\nParts Management: The systematic organization and ordering of necessary components for effective tire repair and service..\\n\\nVehicle Diagnostics: The comprehensive assessment and identification of issues within vehicles using various tools and methods..\\n\\nAppointment Scheduling: The comprehensive process and efficiency of setting up service appointments..\\n\\nOverheating Problems: A common set of issues related to the excessive heat affecting different components of the vehicle..\\n\\nDiagnosis Accuracy: The precision and reliability of vehicle diagnostics and problem identification..\\n\\nWheel Nut Issues: Concerns related to the condition, handling, and replacement of wheel nuts during tire service..\\n\\nOil Change: The routine maintenance task of replacing old engine oil with new oil to ensure vehicle performance and engine health..\\n\\nTire Wear Management: A comprehensive approach to understanding and monitoring tire wear, including indicators and maintenance practices..\\n\\nSpecialized Tires: This topic covers various types of non-standard, customized, or unique tires tailored for specific vehicle needs or conditions..\\n\\nTire Service Expertise: The overall skill and knowledge of staff providing tire services effectively..\\n\\nTire Safety Risks: An overview of potential dangers and caution related to tire conditions and their impact on vehicle safety..\\n\\nTire Pressure Management: The essential practice of monitoring and adjusting the air pressure within tires to ensure optimal vehicle performance and safety..\\n\\nGarage Quality: The standard and service level provided by the garage..\\n\\nRefrigerant Refill: A topic focused on the process and service of replenishing refrigerant in vehicle air conditioning systems..\\n\\nRepair Experience: A summary of customer experiences and satisfaction related to various vehicle repair services, particularly focusing on tires..\\n\"}]\u001b[0m\n",
      "\u001b[32m2024-11-26 23:08:18.095\u001b[0m | \u001b[33m\u001b[1mWARNING \u001b[0m | \u001b[36mbase\u001b[0m:\u001b[36m_validate_response\u001b[0m:\u001b[36m150\u001b[0m - \u001b[33m\u001b[1mNot all topics were included in a category by the Categorizer Agent. Will be re-tried if attempts remain.\u001b[0m\n",
      "\u001b[32m2024-11-26 23:08:18.096\u001b[0m | \u001b[33m\u001b[1mWARNING \u001b[0m | \u001b[36mbase\u001b[0m:\u001b[36m_validate_response\u001b[0m:\u001b[36m152\u001b[0m - \u001b[33m\u001b[1mMissing topics: ['Wheel Replacement']\u001b[0m\n",
      "\u001b[32m2024-11-26 23:08:18.097\u001b[0m | \u001b[33m\u001b[1mWARNING \u001b[0m | \u001b[36mbase\u001b[0m:\u001b[36m_run\u001b[0m:\u001b[36m80\u001b[0m - \u001b[33m\u001b[1mFailed Validation in attempt 1. Retrying...\u001b[0m\n",
      "\u001b[32m2024-11-26 23:08:25.245\u001b[0m | \u001b[1mINFO    \u001b[0m | \u001b[36mbase\u001b[0m:\u001b[36m_run\u001b[0m:\u001b[36m83\u001b[0m - \u001b[1mSuccessfully validated Categorizer_Agent in attempt 2.\u001b[0m\n"
     ]
    }
   ],
   "source": [
    "categorizer_agent = Categorizer_Agent(client, domain=\"Tires and Tire Service\", model_name=\"gpt-4o\")\n",
    "\n",
    "response = categorizer_agent.process(leaf_topic_chunks[0])"
   ]
  },
  {
   "cell_type": "code",
   "execution_count": 8,
   "metadata": {},
   "outputs": [
    {
     "data": {
      "text/plain": [
       "[Category(name='Tire Services and Maintenance', description='This category encompasses all topics related to the services, expertise, and processes involved in tire maintenance and replacement.', topics=['Tire Patch Services', 'Tire Fitting Experience', 'Tire Replacement', 'Tire Change Efficiency', 'Tire Change Services', 'Tire Acquisition', 'Tire Wear Management', 'Tire Service Expertise', 'Tire Safety Risks', 'Tire Pressure Management', 'Tire Technician Expertise', 'Tire Defect Detection', 'Tire Policies', 'Tire Change Services', 'Tire Change Efficiency', 'Tire Replacement', 'Tire Patch Services', 'Tire Fitting Experience', 'Tire Technician Expertise', 'Tire Service Expertise', 'Tire Safety Risks', 'Tire Pressure Management', 'Tire Defect Detection', 'Tire Policies', 'Tire Acquisition', 'Tire Wear Management']),\n",
       " Category(name='Vehicle Performance and Diagnostics', description='This category includes topics related to the performance, diagnostics, and maintenance of various vehicle systems and components.', topics=['Vehicle Performance', 'Engine Performance', 'Vehicle Noise Issues', 'Vehicle Warning Indicators', 'Vehicle Diagnostics', 'Diagnosis Accuracy', 'Overheating Problems', 'Engine Oil Management', 'Oil Change', 'Turbo Issues', 'Brake Evaluations', 'Brake System Parts', 'Clutch Services', 'Alignment Quality', 'Geometry Adjustment', 'Wheel Replacement', 'Wheel Nut Issues', 'Locking Nuts']),\n",
       " Category(name='Customer Experience and Service Quality', description='This category covers topics related to customer experiences, service quality, and the professionalism of service providers.', topics=['Mechanic Expertise', 'Workshop Professionalism', 'Garage Quality', 'Repair Experience', 'Service Denial Issues', 'Craftsmanship Quality', 'Tool Effectiveness', 'Parts Management']),\n",
       " Category(name='Appointment and Scheduling', description='This category focuses on the efficiency and management of service appointments and scheduling.', topics=['Online Tire Booking', 'Appointment Wait Times', 'Appointment Punctuality', 'Appointment Scheduling', 'Business Operating Hours', 'Weekend Services']),\n",
       " Category(name='Facility and Accessibility', description='This category addresses the physical aspects of service facilities, including parking and tire availability.', topics=['Parking Availability', 'Tyre Availability']),\n",
       " Category(name='Air Conditioning and Refrigerant Services', description='This category includes topics related to the maintenance and servicing of vehicle air conditioning systems.', topics=['Air Conditioning Recharge', 'Refrigerant Refill']),\n",
       " Category(name='Specialized and Custom Tires', description='This category focuses on non-standard and customized tire options for specific needs.', topics=['Specialized Tires'])]"
      ]
     },
     "execution_count": 8,
     "metadata": {},
     "output_type": "execute_result"
    }
   ],
   "source": [
    "response.categories\n"
   ]
  },
  {
   "cell_type": "code",
   "execution_count": 9,
   "metadata": {},
   "outputs": [
    {
     "name": "stderr",
     "output_type": "stream",
     "text": [
      "\u001b[32m2024-11-26 23:08:43.500\u001b[0m | \u001b[34m\u001b[1mDEBUG   \u001b[0m | \u001b[36mbase\u001b[0m:\u001b[36m_run\u001b[0m:\u001b[36m64\u001b[0m - \u001b[34m\u001b[1mPrompt: [{'role': 'system', 'content': \"You are a taxonomy expert in customer reviews. Given:\\n1) A list of existing high-level categories and their descriptions from the domain Tires and Tire Service.\\n2) A new batch of topics and their descriptions from the same domain.\\n\\nYour task is to:\\n1) Evaluate each topic against existing categories.\\n2) Assign topics to categories where there's a clear fit\\n3) Flag topics that don't fit well anywhere.\\n4) All topics must be included in a category or flagged as uncategorized.\\n\\nDo not create new categories.\"}, {'role': 'user', 'content': \"Existing categories:\\n\\nTire Services and Maintenance: This category encompasses all topics related to the services, expertise, and processes involved in tire maintenance and replacement..\\n\\nVehicle Performance and Diagnostics: This category includes topics related to the performance, diagnostics, and maintenance of various vehicle systems and components..\\n\\nCustomer Experience and Service Quality: This category covers topics related to customer experiences, service quality, and the professionalism of service providers..\\n\\nAppointment and Scheduling: This category focuses on the efficiency and management of service appointments and scheduling..\\n\\nFacility and Accessibility: This category addresses the physical aspects of service facilities, including parking and tire availability..\\n\\nAir Conditioning and Refrigerant Services: This category includes topics related to the maintenance and servicing of vehicle air conditioning systems..\\n\\nSpecialized and Custom Tires: This category focuses on non-standard and customized tire options for specific needs..\\n\\n\\nNew topics:\\n\\nInspection Speed: A focus on the quickness and efficiency of tire inspection services..\\n\\nPerformance Evaluation: The process of assessing the vehicle's performance through test drives and evaluations post-service..\\n\\nTire Service Issues: Encapsulates various problems and concerns experienced during tire installation and related services..\\n\\nCustomer-Centric Sales: A sales approach that prioritizes understanding and addressing customer needs while avoiding aggressive and unnecessary selling tactics..\\n\\nNitrogen Tire Service: A comprehensive overview of services related to the inflation of tires using nitrogen instead of regular air..\\n\\nTire Cost-Effectiveness: An evaluation of the financial value and performance of different tire options and services..\\n\\nTire Delivery Issues: Concerns and experiences related to the delivery process of tires, including delays, order problems, and delivery accuracy..\\n\\nTire Positioning: The strategic arrangement and orientation of tires on a vehicle to ensure safety and optimal performance..\\n\\nTire Installation: The process and service of installing and fitting tires onto vehicles..\\n\\nTire Quality: The comprehensive assessment of the standard, durability, and reliability of tires and related services..\\n\\nOrdering Process: The comprehensive experience and methods involved in placing orders for tires, emphasizing ease and efficiency..\\n\\nLift Accessibility: Concerns and considerations related to using vehicle lifts for servicing, including availability, height, and malfunction..\\n\\nParts Replacement: The overall process and practices involved in substituting old or faulty components with new or repaired parts during vehicle service..\\n\\nVehicle Condition: An assessment of the overall state, maintenance, and performance of vehicles before and after service..\\n\\nVehicle Vibration Issues: A collection of customer-reported problems related to vibrations and instability experienced in vehicles, particularly focusing on steering and driving performance..\\n\\nMaintenance Notifications: Alerts and reminders related to vehicle maintenance and inspections..\\n\\nDelivery Delays: A collection of issues related to the late arrival of tire orders..\\n\\nTire Inflation Services: A comprehensive overview of the procedures and services related to the inflation and maintenance of tire air pressure..\\n\\nService Delays: A collection of issues related to extended wait times and interruptions during service fulfillment..\\n\\nTire System Errors: A collection of notifications and issues related to tire performance and system malfunctions..\\n\\nUrgent Assistance: A focus on the prompt and immediate support provided for vehicle-related issues, particularly tire services..\\n\\nRim Replacement Services: Services and processes related to replacing and installing car rims..\\n\\nCaravan And Trailer Tires: A category focusing on tires and wheels specifically designed for caravans and trailers..\\n\\nWorkshop Cleanliness: The overall tidiness and organization level maintained in the workshop environment..\\n\\nVehicle Diagnosis: The comprehensive assessment and identification of issues related to vehicles and their components..\\n\\nFlat Tire Support: Assistance and solutions provided to customers for handling flat tire situations..\\n\\nMotorcycle Tires: A comprehensive category encompassing all types of tires specifically designed for motorcycles and related vehicles..\\n\\nTread Measurement: This topic encompasses all aspects of measuring and assessing tire tread depth and condition..\\n\\nTire Age: The assessment of tire age considers its duration since manufacture or use, affecting safety, performance, and repairability..\\n\\nTire Longevity: The overall expected lifespan and durability of tires based on usage and maintenance..\\n\\nCar Handling: The overall performance, control, and maneuverability of a vehicle, especially after service or maintenance..\\n\\nNut Tightening: The process and techniques used to securely fasten wheel nuts for safety and performance..\\n\\nAll-Weather Tires: A category of tires designed to provide optimal performance across different weather conditions..\\n\\nAssembly And Disassembly: The processes and challenges involved in taking apart and putting back together vehicle components, particularly tires and rims..\\n\\nRubber Quality Assessment: An evaluation of various aspects of rubber components in tire manufacturing, including age, quality, and thickness..\\n\\nBrake Inspection: A comprehensive evaluation process focused on the functionality and safety of a vehicle's braking system..\\n\\nTire And Component Replacement: A comprehensive service focused on replacing worn or damaged tires and related components..\\n\\nTyre Replacement: The process of changing old tires for new ones..\\n\\nTire Service Response: The quick and efficient actions taken by technicians to address tire issues..\\n\\nTire Mismanagement: Issues related to the receipt and installation of incorrect or unsuitable tires..\\n\\nElectric Vehicles: All references relate to electric vehicles and their specific needs and characteristics..\\n\\nVehicle Problems: A collection of various issues and malfunctions experienced with vehicles that require attention..\\n\\nTire Service Scheduling: The process and importance of scheduling appointments for various tire-related services..\\n\\nTire Service Procedures: A comprehensive overview of the various processes and methods involved in tire servicing and maintenance..\\n\\nExplanatory Clarity: A focus on the clarity and effectiveness of information provided to customers regarding services and repairs..\\n\\nQuality Workmanship: Evaluating the skill and quality of craftsmanship in the services provided..\\n\\nRepair Quality: The overall effectiveness, accuracy, and dependability of repair services and parts used in various repairs..\\n\\nRim Care Practices: Best practices for handling, maintaining, and protecting vehicle rims during service..\\n\\nTyre Repair Services: A focus on the services offered for fixing damaged tyres..\\n\\nTire Deflation Issues: A collection of related problems concerning tires losing air pressure..\\n\"}]\u001b[0m\n",
      "\u001b[32m2024-11-26 23:08:48.706\u001b[0m | \u001b[33m\u001b[1mWARNING \u001b[0m | \u001b[36mbase\u001b[0m:\u001b[36m_validate_response\u001b[0m:\u001b[36m209\u001b[0m - \u001b[33m\u001b[1mThe following topics were not included in a category or flagged as uncategorized: ['Tire Cost-Effectiveness', 'Tire Delivery Issues', 'Tire Positioning', 'Tire Quality', 'Parts Replacement', 'Urgent Assistance', 'Rim Replacement Services', 'Nut Tightening', 'Assembly And Disassembly', 'Rubber Quality Assessment', 'Brake Inspection', 'Electric Vehicles', 'Vehicle Problems', 'Rim Care Practices', 'Tire Deflation Issues']. Will be re-tried if attempts remain.\u001b[0m\n",
      "\u001b[32m2024-11-26 23:08:48.707\u001b[0m | \u001b[33m\u001b[1mWARNING \u001b[0m | \u001b[36mbase\u001b[0m:\u001b[36m_run\u001b[0m:\u001b[36m80\u001b[0m - \u001b[33m\u001b[1mFailed Validation in attempt 1. Retrying...\u001b[0m\n",
      "\u001b[32m2024-11-26 23:08:53.920\u001b[0m | \u001b[33m\u001b[1mWARNING \u001b[0m | \u001b[36mbase\u001b[0m:\u001b[36m_validate_response\u001b[0m:\u001b[36m209\u001b[0m - \u001b[33m\u001b[1mThe following topics were not included in a category or flagged as uncategorized: ['Tire Delivery Issues', 'Tire Positioning', 'Tire Quality', 'Parts Replacement', 'Rim Replacement Services', 'Tread Measurement', 'Tire Age', 'Tire Longevity', 'Nut Tightening', 'Assembly And Disassembly', 'Rubber Quality Assessment', 'Brake Inspection', 'Electric Vehicles', 'Vehicle Problems', 'Rim Care Practices', 'Tire Deflation Issues']. Will be re-tried if attempts remain.\u001b[0m\n",
      "\u001b[32m2024-11-26 23:08:53.922\u001b[0m | \u001b[33m\u001b[1mWARNING \u001b[0m | \u001b[36mbase\u001b[0m:\u001b[36m_run\u001b[0m:\u001b[36m80\u001b[0m - \u001b[33m\u001b[1mFailed Validation in attempt 2. Retrying...\u001b[0m\n",
      "\u001b[32m2024-11-26 23:08:57.402\u001b[0m | \u001b[33m\u001b[1mWARNING \u001b[0m | \u001b[36mbase\u001b[0m:\u001b[36m_validate_response\u001b[0m:\u001b[36m209\u001b[0m - \u001b[33m\u001b[1mThe following topics were not included in a category or flagged as uncategorized: ['Tire Cost-Effectiveness', 'Parts Replacement', 'Service Delays', 'Brake Inspection', 'Electric Vehicles', 'Vehicle Problems', 'Rim Care Practices', 'Tire Deflation Issues']. Will be re-tried if attempts remain.\u001b[0m\n",
      "\u001b[32m2024-11-26 23:08:57.403\u001b[0m | \u001b[33m\u001b[1mWARNING \u001b[0m | \u001b[36mbase\u001b[0m:\u001b[36m_run\u001b[0m:\u001b[36m80\u001b[0m - \u001b[33m\u001b[1mFailed Validation in attempt 3. Retrying...\u001b[0m\n",
      "\u001b[32m2024-11-26 23:08:57.404\u001b[0m | \u001b[31m\u001b[1mERROR   \u001b[0m | \u001b[36mbase\u001b[0m:\u001b[36m_run\u001b[0m:\u001b[36m86\u001b[0m - \u001b[31m\u001b[1mFailed Validation after 3 attempts. Ending...\u001b[0m\n"
     ]
    }
   ],
   "source": [
    "harmonizer_agent = CategoryHarmonizerAgent(client, domain=\"Tires and Tire Service\")\n",
    "\n",
    "response = harmonizer_agent.process(HarmonizerInput(\n",
    "    existing_categories = response.categories,\n",
    "    new_topics = leaf_topic_chunks[1]\n",
    "        ))"
   ]
  },
  {
   "cell_type": "code",
   "execution_count": 9,
   "metadata": {},
   "outputs": [
    {
     "data": {
      "text/plain": [
       "HarmonizerOutput(categories=[Category(name='Tire Services', description='Comprehensive services related to the installation, maintenance, and repair of tires.', topics=['Rim Replacement Services', 'Vulcanization Techniques', 'Tyre Repair Services', 'Tire Repair Processes']), Category(name='Vehicle Maintenance Services', description='Additional vehicle maintenance services that complement tire care.', topics=['Vehicle Alignment Services', 'Vehicle Safety Assurance']), Category(name='Tire Performance Monitoring', description='Systems and services that ensure optimal tire performance and safety.', topics=['Tire Condition Assessment', 'Winter Tire Usage'])], uncategorized_topics=[LeafTopic(name='Turbo Issues', description='This topic covers various problems and services related to turbochargers, including defects, replacements, and quality assessments.'), LeafTopic(name='Exchange Efficiency', description='A comprehensive overview of the speed and effectiveness of product exchange procedures.')])"
      ]
     },
     "execution_count": 9,
     "metadata": {},
     "output_type": "execute_result"
    }
   ],
   "source": [
    "response"
   ]
  },
  {
   "cell_type": "code",
   "execution_count": null,
   "metadata": {},
   "outputs": [
    {
     "ename": "ValidationError",
     "evalue": "10 validation errors for HierarchyBuilderInput\ncategories.0\n  Input should be a valid dictionary or instance of Category [type=model_type, input_value=LeafTopic(name='Tire Air ...erformance and safety.'), input_type=LeafTopic]\n    For further information visit https://errors.pydantic.dev/2.10/v/model_type\ncategories.1\n  Input should be a valid dictionary or instance of Category [type=model_type, input_value=LeafTopic(name='Pricing C...s and perceived value.'), input_type=LeafTopic]\n    For further information visit https://errors.pydantic.dev/2.10/v/model_type\ncategories.2\n  Input should be a valid dictionary or instance of Category [type=model_type, input_value=LeafTopic(name='Brake Iss...hicle braking systems.'), input_type=LeafTopic]\n    For further information visit https://errors.pydantic.dev/2.10/v/model_type\ncategories.3\n  Input should be a valid dictionary or instance of Category [type=model_type, input_value=LeafTopic(name='Service S...erienced by customers.'), input_type=LeafTopic]\n    For further information visit https://errors.pydantic.dev/2.10/v/model_type\ncategories.4\n  Input should be a valid dictionary or instance of Category [type=model_type, input_value=LeafTopic(name='Abs Syste...ng System in vehicles.'), input_type=LeafTopic]\n    For further information visit https://errors.pydantic.dev/2.10/v/model_type\ncategories.5\n  Input should be a valid dictionary or instance of Category [type=model_type, input_value=LeafTopic(name='Tire Hand... tire use and service.'), input_type=LeafTopic]\n    For further information visit https://errors.pydantic.dev/2.10/v/model_type\ncategories.6\n  Input should be a valid dictionary or instance of Category [type=model_type, input_value=LeafTopic(name='Vehicle P...aintenance or service.'), input_type=LeafTopic]\n    For further information visit https://errors.pydantic.dev/2.10/v/model_type\ncategories.7\n  Input should be a valid dictionary or instance of Category [type=model_type, input_value=LeafTopic(name='Diagnosis...ifying vehicle issues.'), input_type=LeafTopic]\n    For further information visit https://errors.pydantic.dev/2.10/v/model_type\ncategories.8\n  Input should be a valid dictionary or instance of Category [type=model_type, input_value=LeafTopic(name='Tire Cost... and related services.'), input_type=LeafTopic]\n    For further information visit https://errors.pydantic.dev/2.10/v/model_type\ncategories.9\n  Input should be a valid dictionary or instance of Category [type=model_type, input_value=LeafTopic(name='Brake Flu...ake fluid in vehicles.'), input_type=LeafTopic]\n    For further information visit https://errors.pydantic.dev/2.10/v/model_type",
     "output_type": "error",
     "traceback": [
      "\u001b[0;31m---------------------------------------------------------------------------\u001b[0m",
      "\u001b[0;31mValidationError\u001b[0m                           Traceback (most recent call last)",
      "Cell \u001b[0;32mIn[6], line 4\u001b[0m\n\u001b[1;32m      1\u001b[0m hierarchy_builder_agent \u001b[38;5;241m=\u001b[39m HierarchyBuilder(client, domain\u001b[38;5;241m=\u001b[39m\u001b[38;5;124m\"\u001b[39m\u001b[38;5;124mTires and Tire Service\u001b[39m\u001b[38;5;124m\"\u001b[39m, max_depth\u001b[38;5;241m=\u001b[39m\u001b[38;5;241m2\u001b[39m)\n\u001b[1;32m      3\u001b[0m \u001b[38;5;66;03m# response = hierarchy_builder_agent.process(input_data=HierarchyBuilderInput(categories=response.categories))\u001b[39;00m\n\u001b[0;32m----> 4\u001b[0m response \u001b[38;5;241m=\u001b[39m hierarchy_builder_agent\u001b[38;5;241m.\u001b[39mprocess(input_data\u001b[38;5;241m=\u001b[39m\u001b[43mHierarchyBuilderInput\u001b[49m\u001b[43m(\u001b[49m\u001b[43mcategories\u001b[49m\u001b[38;5;241;43m=\u001b[39;49m\u001b[43mleaf_topic_chunks\u001b[49m\u001b[43m[\u001b[49m\u001b[38;5;241;43m0\u001b[39;49m\u001b[43m]\u001b[49m\u001b[43m)\u001b[49m)\n\u001b[1;32m      6\u001b[0m response\n",
      "File \u001b[0;32m~/Work/BigIfTree/.venv/lib/python3.12/site-packages/pydantic/main.py:214\u001b[0m, in \u001b[0;36mBaseModel.__init__\u001b[0;34m(self, **data)\u001b[0m\n\u001b[1;32m    212\u001b[0m \u001b[38;5;66;03m# `__tracebackhide__` tells pytest and some other tools to omit this function from tracebacks\u001b[39;00m\n\u001b[1;32m    213\u001b[0m __tracebackhide__ \u001b[38;5;241m=\u001b[39m \u001b[38;5;28;01mTrue\u001b[39;00m\n\u001b[0;32m--> 214\u001b[0m validated_self \u001b[38;5;241m=\u001b[39m \u001b[38;5;28;43mself\u001b[39;49m\u001b[38;5;241;43m.\u001b[39;49m\u001b[43m__pydantic_validator__\u001b[49m\u001b[38;5;241;43m.\u001b[39;49m\u001b[43mvalidate_python\u001b[49m\u001b[43m(\u001b[49m\u001b[43mdata\u001b[49m\u001b[43m,\u001b[49m\u001b[43m \u001b[49m\u001b[43mself_instance\u001b[49m\u001b[38;5;241;43m=\u001b[39;49m\u001b[38;5;28;43mself\u001b[39;49m\u001b[43m)\u001b[49m\n\u001b[1;32m    215\u001b[0m \u001b[38;5;28;01mif\u001b[39;00m \u001b[38;5;28mself\u001b[39m \u001b[38;5;129;01mis\u001b[39;00m \u001b[38;5;129;01mnot\u001b[39;00m validated_self:\n\u001b[1;32m    216\u001b[0m     warnings\u001b[38;5;241m.\u001b[39mwarn(\n\u001b[1;32m    217\u001b[0m         \u001b[38;5;124m'\u001b[39m\u001b[38;5;124mA custom validator is returning a value other than `self`.\u001b[39m\u001b[38;5;130;01m\\n\u001b[39;00m\u001b[38;5;124m'\u001b[39m\n\u001b[1;32m    218\u001b[0m         \u001b[38;5;124m\"\u001b[39m\u001b[38;5;124mReturning anything other than `self` from a top level model validator isn\u001b[39m\u001b[38;5;124m'\u001b[39m\u001b[38;5;124mt supported when validating via `__init__`.\u001b[39m\u001b[38;5;130;01m\\n\u001b[39;00m\u001b[38;5;124m\"\u001b[39m\n\u001b[1;32m    219\u001b[0m         \u001b[38;5;124m'\u001b[39m\u001b[38;5;124mSee the `model_validator` docs (https://docs.pydantic.dev/latest/concepts/validators/#model-validators) for more details.\u001b[39m\u001b[38;5;124m'\u001b[39m,\n\u001b[1;32m    220\u001b[0m         stacklevel\u001b[38;5;241m=\u001b[39m\u001b[38;5;241m2\u001b[39m,\n\u001b[1;32m    221\u001b[0m     )\n",
      "\u001b[0;31mValidationError\u001b[0m: 10 validation errors for HierarchyBuilderInput\ncategories.0\n  Input should be a valid dictionary or instance of Category [type=model_type, input_value=LeafTopic(name='Tire Air ...erformance and safety.'), input_type=LeafTopic]\n    For further information visit https://errors.pydantic.dev/2.10/v/model_type\ncategories.1\n  Input should be a valid dictionary or instance of Category [type=model_type, input_value=LeafTopic(name='Pricing C...s and perceived value.'), input_type=LeafTopic]\n    For further information visit https://errors.pydantic.dev/2.10/v/model_type\ncategories.2\n  Input should be a valid dictionary or instance of Category [type=model_type, input_value=LeafTopic(name='Brake Iss...hicle braking systems.'), input_type=LeafTopic]\n    For further information visit https://errors.pydantic.dev/2.10/v/model_type\ncategories.3\n  Input should be a valid dictionary or instance of Category [type=model_type, input_value=LeafTopic(name='Service S...erienced by customers.'), input_type=LeafTopic]\n    For further information visit https://errors.pydantic.dev/2.10/v/model_type\ncategories.4\n  Input should be a valid dictionary or instance of Category [type=model_type, input_value=LeafTopic(name='Abs Syste...ng System in vehicles.'), input_type=LeafTopic]\n    For further information visit https://errors.pydantic.dev/2.10/v/model_type\ncategories.5\n  Input should be a valid dictionary or instance of Category [type=model_type, input_value=LeafTopic(name='Tire Hand... tire use and service.'), input_type=LeafTopic]\n    For further information visit https://errors.pydantic.dev/2.10/v/model_type\ncategories.6\n  Input should be a valid dictionary or instance of Category [type=model_type, input_value=LeafTopic(name='Vehicle P...aintenance or service.'), input_type=LeafTopic]\n    For further information visit https://errors.pydantic.dev/2.10/v/model_type\ncategories.7\n  Input should be a valid dictionary or instance of Category [type=model_type, input_value=LeafTopic(name='Diagnosis...ifying vehicle issues.'), input_type=LeafTopic]\n    For further information visit https://errors.pydantic.dev/2.10/v/model_type\ncategories.8\n  Input should be a valid dictionary or instance of Category [type=model_type, input_value=LeafTopic(name='Tire Cost... and related services.'), input_type=LeafTopic]\n    For further information visit https://errors.pydantic.dev/2.10/v/model_type\ncategories.9\n  Input should be a valid dictionary or instance of Category [type=model_type, input_value=LeafTopic(name='Brake Flu...ake fluid in vehicles.'), input_type=LeafTopic]\n    For further information visit https://errors.pydantic.dev/2.10/v/model_type"
     ]
    }
   ],
   "source": [
    "hierarchy_builder_agent = HierarchyBuilder(client, domain=\"Tires and Tire Service\", max_depth=2)\n",
    "\n",
    "response = hierarchy_builder_agent.process(input_data=HierarchyBuilderInput(categories=response.categories))\n",
    "\n",
    "response\n",
    "\n",
    "\n",
    "\n"
   ]
  },
  {
   "cell_type": "code",
   "execution_count": 15,
   "metadata": {},
   "outputs": [
    {
     "data": {
      "text/plain": [
       "[[Category(name='Tire Services', description='Comprehensive services related to the installation, maintenance, and repair of tires.', topics=['Installation', 'Maintenance', 'Repair']),\n",
       "  Category(name='Vehicle Maintenance Services', description='Additional vehicle maintenance services that complement tire care.', topics=['Alignment', 'Balancing', 'Rotation'])],\n",
       " [Category(name='Tire Performance Monitoring', description='Systems and services that ensure optimal tire performance and safety.', topics=['Pressure Monitoring', 'Tread Depth Monitoring', 'Performance Analysis'])]]"
      ]
     },
     "execution_count": 15,
     "metadata": {},
     "output_type": "execute_result"
    }
   ],
   "source": [
    "response.hierarchy"
   ]
  },
  {
   "cell_type": "code",
   "execution_count": 12,
   "metadata": {},
   "outputs": [
    {
     "data": {
      "text/plain": [
       "[Category(name='Tire Services', description='Comprehensive services related to the installation, maintenance, and repair of tires.', topics=['Rim Replacement Services', 'Vulcanization Techniques', 'Tyre Repair Services', 'Tire Repair Processes']),\n",
       " Category(name='Vehicle Maintenance Services', description='Additional vehicle maintenance services that complement tire care.', topics=['Vehicle Alignment Services', 'Vehicle Safety Assurance']),\n",
       " Category(name='Tire Performance Monitoring', description='Systems and services that ensure optimal tire performance and safety.', topics=['Tire Condition Assessment', 'Winter Tire Usage'])]"
      ]
     },
     "execution_count": 12,
     "metadata": {},
     "output_type": "execute_result"
    }
   ],
   "source": [
    "response.categories"
   ]
  },
  {
   "cell_type": "code",
   "execution_count": null,
   "metadata": {},
   "outputs": [],
   "source": []
  },
  {
   "cell_type": "code",
   "execution_count": null,
   "metadata": {},
   "outputs": [],
   "source": []
  },
  {
   "cell_type": "markdown",
   "metadata": {},
   "source": [
    "## Claude Experiments"
   ]
  },
  {
   "cell_type": "code",
   "execution_count": 10,
   "metadata": {},
   "outputs": [],
   "source": [
    "from base_claude import *\n",
    "from anthropic import Anthropic"
   ]
  },
  {
   "cell_type": "code",
   "execution_count": 12,
   "metadata": {},
   "outputs": [],
   "source": [
    "client = Anthropic()"
   ]
  },
  {
   "cell_type": "code",
   "execution_count": 13,
   "metadata": {},
   "outputs": [
    {
     "name": "stderr",
     "output_type": "stream",
     "text": [
      "\u001b[32m2024-11-25 22:44:29.419\u001b[0m | \u001b[34m\u001b[1mDEBUG   \u001b[0m | \u001b[36mbase_claude\u001b[0m:\u001b[36m_run\u001b[0m:\u001b[36m64\u001b[0m - \u001b[34m\u001b[1mPrompt: [{'role': 'system', 'content': 'You are a taxonomy expert in customer reviews. \\nYou are given a list of topics and descriptions from the domain Tires and Tire Service.\\nYour task is to group these topics into high-level categories that make sense for a customer review analysis.\\n\\nGuidelines:\\n1) Every topic must be included in a category.\\n2) Each category should have a name and a one-sentence description.\\n3) The category names should represent the all of the topics that belong to the category.\\n4) The categories should be distinct from each other.\\n5) The categories can vary in size.\\n\\nImportant:\\n- Do not leave any topics uncategorized.\\n- For outlier topics, create a new category for them.'}, {'role': 'user', 'content': \"\\nHandbrake Issues: Concerns and maintenance related to the functionality and repair of vehicle handbrakes..\\n\\nSuspension Spring Issues: A comprehensive overview of problems and solutions related to various types of suspension springs in vehicles..\\n\\nTire Availability: The overall status and accessibility of various tire models and related products for customer purchase..\\n\\nSqueaking Noises: A collection of issues related to persistent and recurring noises from tires and wheels, indicating potential problems..\\n\\nTire Air Loss: The common issue of tires losing air pressure, impacting performance and safety..\\n\\nVehicle Inspections: A comprehensive evaluation process assessing a vehicle's condition, safety, and compliance with standards..\\n\\nTpms Issues: Concerns and problems related to the Tire Pressure Monitoring System, including alerts, sensor accuracy, and calibration..\\n\\nBrake Calipers: The essential components of the braking system responsible for clamping brake pads to ensure vehicle safety and performance..\\n\\nInstallation Challenges: Issues and difficulties encountered during the installation of various automotive parts..\\n\\nExpress Tire Services: Fast and efficient tire service options catered to customer needs..\\n\\nMaterial Quality: The overall standard and durability of materials used in products and services..\\n\\nTire Service Expertise: The overall skill and knowledge of staff providing tire services effectively..\\n\\nService Denial Issues: Experiences and instances of customers being denied service or assistance by providers..\\n\\nFluid Inspection: The process of examining and ensuring all vehicle fluids are at their proper levels..\\n\\nDot Regulations: A comprehensive overview of the Department of Transportation's standards and identification for tire safety and compliance..\\n\\nPickup And Drop-Off: A cluster focusing on the scheduled and actual timings related to vehicle pickup and drop-off services..\\n\\nLeak Assessment: The process of identifying and diagnosing leaks in air conditioning systems..\\n\\nWheel Bolt Safety: The practices and techniques involved in securing and verifying the tightness of wheel bolts for safety and performance..\\n\\nVehicle Breakdown Issues: A collection of events and problems related to a vehicle failing to operate properly..\\n\\nNew Rims: This topic covers all aspects related to the purchase and installation of new rims for vehicles..\\n\\nEngine Oil Alerts: Warnings and notifications regarding engine oil levels and conditions..\\n\\nDelivery Efficiency: The effectiveness and speed of tire delivery and exchange services..\\n\\nTurbo Issues: This topic covers various problems and services related to turbochargers, including defects, replacements, and quality assessments..\\n\\nVehicle Maintenance: A comprehensive category covering all aspects of servicing, repairing, and maintaining vehicles..\\n\\nBattery Replacement Speed: The efficiency and promptness of service related to battery replacements..\\n\\nAc Inspection Services: An overview of various assessments and diagnostics performed on a vehicle's air conditioning system..\\n\\nTightening Concerns: Issues related to the proper fastening and torque application of vehicle components..\\n\\nCar Models: A collection of specific vehicle models for which tire services are provided..\\n\\nTire And Brake Noise: A topic encompassing various unwanted sounds associated with vehicle tires and braking systems..\\n\\nBusiness Operating Hours: The scheduled times during which the tire service is available to customers, including details about accuracy and special operational times..\\n\\nTire Services: Comprehensive range of services related to the maintenance, installation, repair, and replacement of vehicle tires..\\n\\nTyre Availability: The status and accessibility of specific tyres available for customers..\\n\\nTire Inspection: The systematic evaluation and examination of tires for condition, safety, and performance..\\n\\nAir Conditioning Recharge: The comprehensive process and service of refilling refrigerant in vehicle air conditioning systems..\\n\\nTire Replacement: The process and strategies involved in replacing tires and related components..\\n\\nTire Installation Service: A comprehensive service that encompasses the installation of tires and related components on vehicles..\\n\\nService Wait Times: A collection of customer feedback regarding the duration they had to wait for various automotive services..\\n\\nBrake Noise Issues: A collection of concerns related to unwanted sounds and noises produced by the braking system during operation..\\n\\nVisual Evidence: The practice of using photographs to support claims regarding the condition and handling of tires..\\n\\nSpecialized Tires: This topic covers various types of non-standard, customized, or unique tires tailored for specific vehicle needs or conditions..\\n\\nTread Measurement: This topic encompasses all aspects of measuring and assessing tire tread depth and condition..\\n\\nTire Balancing Issues: Problems related to the improper distribution of weight in tires affecting vehicle stability and performance..\\n\\nClimate Control Performance: The effectiveness of a vehicle's heating and cooling systems..\\n\\nTire Damage: An overview of various issues and conditions related to tire damage that require inspection or service..\\n\\nTire Costs: A summary of various costs associated with purchasing tires and related services..\\n\\nWheel Torque Management: The process and standards regarding the proper tightening and adjustment of wheel nuts and bolts for safety..\\n\\nVehicle Performance Issues: Concerns related to various performance problems impacting the functionality and effectiveness of vehicles and their components..\\n\\nRetest Process: Overview of the procedures and policies related to retesting services for vehicles..\\n\\nTire Age: The assessment of tire age considers its duration since manufacture or use, affecting safety, performance, and repairability..\\n\\nAffordable Pricing: This topic encompasses the overall perception of cost-effectiveness and fairness in pricing for tires and related services..\\n\"}]\u001b[0m\n",
      "\u001b[32m2024-11-25 22:44:42.366\u001b[0m | \u001b[33m\u001b[1mWARNING \u001b[0m | \u001b[36mbase_claude\u001b[0m:\u001b[36m_validate_response\u001b[0m:\u001b[36m174\u001b[0m - \u001b[33m\u001b[1mNot all topics were included in a category by the Categorizer Agent. Will be re-tried if attempts remain.\u001b[0m\n",
      "\u001b[32m2024-11-25 22:44:42.367\u001b[0m | \u001b[33m\u001b[1mWARNING \u001b[0m | \u001b[36mbase_claude\u001b[0m:\u001b[36m_validate_response\u001b[0m:\u001b[36m176\u001b[0m - \u001b[33m\u001b[1mMissing topics: ['Handbrake Issues', 'Tire Availability', 'Squeaking Noises', 'Tire Air Loss', 'Vehicle Inspections', 'Tpms Issues', 'Brake Calipers', 'Installation Challenges', 'Express Tire Services', 'Material Quality', 'Tire Service Expertise', 'Service Denial Issues', 'Fluid Inspection', 'Dot Regulations', 'Leak Assessment', 'Wheel Bolt Safety', 'Vehicle Breakdown Issues', 'New Rims', 'Engine Oil Alerts', 'Delivery Efficiency', 'Turbo Issues', 'Vehicle Maintenance', 'Battery Replacement Speed', 'Ac Inspection Services', 'Tightening Concerns', 'Car Models', 'Tire And Brake Noise', 'Business Operating Hours', 'Tire Services', 'Tire Inspection', 'Air Conditioning Recharge', 'Tire Replacement', 'Tire Installation Service', 'Service Wait Times', 'Brake Noise Issues', 'Visual Evidence', 'Specialized Tires', 'Tread Measurement', 'Tire Balancing Issues', 'Climate Control Performance', 'Tire Damage', 'Tire Costs', 'Wheel Torque Management', 'Vehicle Performance Issues', 'Retest Process', 'Tire Age']\u001b[0m\n",
      "\u001b[32m2024-11-25 22:44:42.368\u001b[0m | \u001b[33m\u001b[1mWARNING \u001b[0m | \u001b[36mbase_claude\u001b[0m:\u001b[36m_run\u001b[0m:\u001b[36m104\u001b[0m - \u001b[33m\u001b[1mFailed Validation in attempt 1. Retrying...\u001b[0m\n",
      "\u001b[32m2024-11-25 22:44:54.645\u001b[0m | \u001b[33m\u001b[1mWARNING \u001b[0m | \u001b[36mbase_claude\u001b[0m:\u001b[36m_validate_response\u001b[0m:\u001b[36m174\u001b[0m - \u001b[33m\u001b[1mNot all topics were included in a category by the Categorizer Agent. Will be re-tried if attempts remain.\u001b[0m\n",
      "\u001b[32m2024-11-25 22:44:54.651\u001b[0m | \u001b[33m\u001b[1mWARNING \u001b[0m | \u001b[36mbase_claude\u001b[0m:\u001b[36m_validate_response\u001b[0m:\u001b[36m176\u001b[0m - \u001b[33m\u001b[1mMissing topics: ['Handbrake Issues', 'Tire Availability', 'Squeaking Noises', 'Tire Air Loss', 'Vehicle Inspections', 'Tpms Issues', 'Brake Calipers', 'Installation Challenges', 'Express Tire Services', 'Material Quality', 'Tire Service Expertise', 'Service Denial Issues', 'Fluid Inspection', 'Dot Regulations', 'Leak Assessment', 'Wheel Bolt Safety', 'Vehicle Breakdown Issues', 'New Rims', 'Engine Oil Alerts', 'Delivery Efficiency', 'Turbo Issues', 'Vehicle Maintenance', 'Battery Replacement Speed', 'Ac Inspection Services', 'Tightening Concerns', 'Car Models', 'Tire And Brake Noise', 'Business Operating Hours', 'Tire Services', 'Tire Inspection', 'Air Conditioning Recharge', 'Tire Replacement', 'Tire Installation Service', 'Service Wait Times', 'Brake Noise Issues', 'Visual Evidence', 'Specialized Tires', 'Tread Measurement', 'Tire Balancing Issues', 'Climate Control Performance', 'Tire Damage', 'Tire Costs', 'Wheel Torque Management', 'Vehicle Performance Issues', 'Retest Process', 'Tire Age']\u001b[0m\n",
      "\u001b[32m2024-11-25 22:44:54.663\u001b[0m | \u001b[33m\u001b[1mWARNING \u001b[0m | \u001b[36mbase_claude\u001b[0m:\u001b[36m_run\u001b[0m:\u001b[36m104\u001b[0m - \u001b[33m\u001b[1mFailed Validation in attempt 2. Retrying...\u001b[0m\n",
      "\u001b[32m2024-11-25 22:45:07.857\u001b[0m | \u001b[33m\u001b[1mWARNING \u001b[0m | \u001b[36mbase_claude\u001b[0m:\u001b[36m_validate_response\u001b[0m:\u001b[36m174\u001b[0m - \u001b[33m\u001b[1mNot all topics were included in a category by the Categorizer Agent. Will be re-tried if attempts remain.\u001b[0m\n",
      "\u001b[32m2024-11-25 22:45:07.859\u001b[0m | \u001b[33m\u001b[1mWARNING \u001b[0m | \u001b[36mbase_claude\u001b[0m:\u001b[36m_validate_response\u001b[0m:\u001b[36m176\u001b[0m - \u001b[33m\u001b[1mMissing topics: ['Handbrake Issues', 'Tire Availability', 'Squeaking Noises', 'Tire Air Loss', 'Vehicle Inspections', 'Tpms Issues', 'Brake Calipers', 'Installation Challenges', 'Express Tire Services', 'Material Quality', 'Tire Service Expertise', 'Service Denial Issues', 'Fluid Inspection', 'Dot Regulations', 'Leak Assessment', 'Wheel Bolt Safety', 'Vehicle Breakdown Issues', 'New Rims', 'Engine Oil Alerts', 'Delivery Efficiency', 'Turbo Issues', 'Vehicle Maintenance', 'Battery Replacement Speed', 'Ac Inspection Services', 'Tightening Concerns', 'Car Models', 'Tire And Brake Noise', 'Business Operating Hours', 'Tire Services', 'Tire Inspection', 'Air Conditioning Recharge', 'Tire Replacement', 'Tire Installation Service', 'Service Wait Times', 'Brake Noise Issues', 'Visual Evidence', 'Specialized Tires', 'Tread Measurement', 'Tire Balancing Issues', 'Climate Control Performance', 'Tire Damage', 'Tire Costs', 'Wheel Torque Management', 'Vehicle Performance Issues', 'Retest Process', 'Tire Age']\u001b[0m\n",
      "\u001b[32m2024-11-25 22:45:07.860\u001b[0m | \u001b[33m\u001b[1mWARNING \u001b[0m | \u001b[36mbase_claude\u001b[0m:\u001b[36m_run\u001b[0m:\u001b[36m104\u001b[0m - \u001b[33m\u001b[1mFailed Validation in attempt 3. Retrying...\u001b[0m\n",
      "\u001b[32m2024-11-25 22:45:07.861\u001b[0m | \u001b[31m\u001b[1mERROR   \u001b[0m | \u001b[36mbase_claude\u001b[0m:\u001b[36m_run\u001b[0m:\u001b[36m110\u001b[0m - \u001b[31m\u001b[1mFailed Validation after 3 attempts. Ending...\u001b[0m\n"
     ]
    }
   ],
   "source": [
    "categorizer_agent = Categorizer_Agent(client, domain=\"Tires and Tire Service\", model_name=\"gpt-4o\")\n",
    "\n",
    "response = categorizer_agent.process(leaf_topic_chunks[0])"
   ]
  },
  {
   "cell_type": "code",
   "execution_count": 14,
   "metadata": {},
   "outputs": [],
   "source": [
    "class LeafTopic(BaseModel):\n",
    "    name: str = Field(description=\"The name of the leaf topic\")\n",
    "    description: str = Field(description=\"A one-sentence description of the leaf topic\")\n",
    "\n",
    "class Category(BaseModel):\n",
    "    name: str = Field(description=\"The name of the category\")\n",
    "    description: str = Field(description=\"A one-sentence description of the category\")\n",
    "    topics: List[str] = Field(description=\"A list of topics that belong to the category\")\n",
    "\n",
    "class Categorizer_Agent_Output(BaseModel):\n",
    "    categories: List[Category] = Field(description=\"A list of categories with the coresponding topics\")"
   ]
  },
  {
   "cell_type": "code",
   "execution_count": 28,
   "metadata": {},
   "outputs": [],
   "source": [
    "def analyze_text_with_claude(api_key: str, text: str) -> Categorizer_Agent_Output:\n",
    "    client = Anthropic(api_key=api_key)\n",
    " \n",
    "    topic_categorization_schema = Categorizer_Agent_Output.model_json_schema()\n",
    "    domain=\"Tires and Tire Service\"\n",
    " \n",
    "    tools = [\n",
    "        {\n",
    "            \"name\": \"build_categorizer_agent_result\",\n",
    "            \"description\": \"build the Categorizer output object\",\n",
    "            \"input_schema\": topic_categorization_schema\n",
    "        }\n",
    "    ]\n",
    " \n",
    "    message = client.messages.create(\n",
    "        model=\"claude-3-haiku-20240307\",\n",
    "        max_tokens=1200,\n",
    "        temperature=0.2,\n",
    "        system = dedent(f\"\"\"\\\n",
    "                                You are a taxonomy expert in customer reviews. \n",
    "                                You are given a list of topics and descriptions from the domain {domain}.\n",
    "                                Your task is to group these topics into high-level categories that make sense for a customer review analysis.\n",
    "\n",
    "                                Guidelines:\n",
    "                                1) Every topic must be included in a category.\n",
    "                                2) Each category should have a name and a one-sentence description.\n",
    "                                3) The category names should represent the all of the topics that belong to the category.\n",
    "                                4) The categories should be distinct from each other.\n",
    "                                5) The categories can vary in size.\n",
    "                                \n",
    "                                Important:\n",
    "                                - Do not leave any topics uncategorized.\n",
    "                                - For outlier topics, create a new category for them.\"\"\"),\n",
    "        messages=[\n",
    "            {\n",
    "                \"role\": \"user\",\n",
    "                \"content\": f\"{text}\"\n",
    "            }\n",
    "        ],\n",
    "        tools=tools,\n",
    "        tool_choice={\"type\": \"tool\", \"name\": \"build_categorizer_agent_result\"}\n",
    "    )\n",
    " \n",
    "    function_call = message.content[0].input\n",
    "    return function_call\n",
    "    # return Categorizer_Agent_Output(**function_call)"
   ]
  },
  {
   "cell_type": "code",
   "execution_count": 29,
   "metadata": {},
   "outputs": [],
   "source": [
    "def process(topics: List[LeafTopic]) -> BaseModel:\n",
    "    \n",
    "\n",
    "    user_input_template = dedent(\"\"\"\\\n",
    "                        {% for item in items %}\n",
    "                        {{ item.name }}: {{ item.description }}.\n",
    "                        {% endfor %}\"\"\")\n",
    "    user_input_template  = Template(user_input_template)\n",
    "    user_input = user_input_template.render(items=topics)\n",
    "    return user_input"
   ]
  },
  {
   "cell_type": "code",
   "execution_count": 31,
   "metadata": {},
   "outputs": [
    {
     "data": {
      "text/plain": [
       "\"\\nCustomer Support: The overall quality of assistance and support provided by staff to customers..\\n\\nSpare Tire Issues: Concerns and inquiries regarding the availability, inclusion, and condition of spare tires for vehicles..\\n\\nPricing Clarity: The clear and open communication about costs associated with services, ensuring transparency and avoiding hidden fees..\\n\\nTyre Repair Services: A focus on the services offered for fixing damaged tyres..\\n\\nBrake Issues: Concerns and problems related to the performance, condition, and functionality of vehicle braking systems..\\n\\nService Pricing: A comprehensive overview of customer perceptions regarding the affordability and fairness of service costs..\\n\\nAffordable Pricing: This topic encompasses the overall perception of cost-effectiveness and fairness in pricing for tires and related services..\\n\\nTire Problems: Various issues related to tires, including damage caused by screws or nails and incorrect mounting..\\n\\nTorque Tools: A category of tools focused on ensuring the proper application of torque for tightening or loosening fasteners..\\n\\nSteering Issues: Concerns and problems related to the functionality and alignment of vehicle steering mechanisms..\\n\\nPerformance Evaluation: The process of assessing the vehicle's performance through test drives and evaluations post-service..\\n\\nBrake Pad Replacement: A comprehensive process involving the removal, installation, and servicing of brake pads to maintain vehicle safety and performance..\\n\\nTesla Service Expertise: A comprehensive understanding and specialized capability in servicing Tesla vehicles and electric vehicles..\\n\\nProduct Durability: The overall duration and effectiveness of various vehicle components before they require replacement..\\n\\nWheel Nut Issues: Concerns related to the condition, handling, and replacement of wheel nuts during tire service..\\n\\nTire Pressure Guidelines: Comprehensive recommendations and specifications regarding tire air pressure for optimal performance..\\n\\nPickup And Drop-Off: A cluster focusing on the scheduled and actual timings related to vehicle pickup and drop-off services..\\n\\nVehicle Inspection Results: An overview of various outcomes related to vehicle inspections, including approval statuses and identified issues..\\n\\nSeasonal Tire Change: The act of swapping and managing tires according to seasonal weather conditions..\\n\\nFilter Maintenance: The comprehensive service involving the replacement and maintenance of various filters in vehicles to ensure optimal performance and air quality..\\n\\nTire Reliability: The consistent dependability and performance of tires under various conditions without problems..\\n\\nWinter Tire Installation: This topic focuses on the installation and servicing of winter tires for vehicles..\\n\\nTire Puncture Issues: Specific problems related to punctures caused by foreign objects in tires..\\n\\nMechanical Repair Services: Comprehensive services focused on the maintenance and repair of vehicle mechanical systems..\\n\\nDiagnosis Accuracy: The precision and reliability of vehicle diagnostics and problem identification..\\n\\nVehicle Failures: Various incidents of unexpected breakdowns and malfunctions affecting vehicle operation..\\n\\nEngine Warning Indicators: A category of warning lights related to potential issues with a vehicle's engine or emissions system..\\n\\nService Failures: A collection of issues highlighting inadequate skills, poor organization, and lack of accountability in service delivery..\\n\\nPuncture Repair Services: The service dedicated to fixing slow punctures in tires..\\n\\nTire Service Response: The quick and efficient actions taken by technicians to address tire issues..\\n\\nTyre Fitting Services: A comprehensive overview of services related to the installation of tires, including mobile and location-based fitting options..\\n\\nTyre Availability: The status and accessibility of specific tyres available for customers..\\n\\nNut Tightening: The process and techniques used to securely fasten wheel nuts for safety and performance..\\n\\nCompetitor Analysis: An evaluation of service quality, pricing, and experiences compared to various competing tire service providers..\\n\\nTire Patch Services: The various methods and services related to repairing tires using patches..\\n\\nMaintenance Management: The organization and effectiveness of vehicle maintenance tasks and scheduling..\\n\\nQuality-Price Ratio: The assessment of the relationship between the quality and cost of tires, emphasizing their value for money..\\n\\nEngine Oil Management: The comprehensive assessment and concerns regarding the type, level, condition, and quality of engine oil in vehicles..\\n\\nAssembly And Disassembly: The processes and challenges involved in taking apart and putting back together vehicle components, particularly tires and rims..\\n\\nDashboard Warning Lights: Issues related to various dashboard warning lights showing malfunctions in the vehicle..\\n\\nPricing Comparison: An analysis of the service costs in relation to competitors and perceived value..\\n\\nGasket Mechanics: A focused discussion on issues, quality, and maintenance related to gaskets, particularly head gaskets, in vehicles..\\n\\nProduct Defects: Issues related to various defects and malfunctions encountered in automotive products and services..\\n\\nWheel Issues: Various problems and concerns relating to the performance and functionality of vehicle wheels..\\n\\nSuspension Spring Issues: A comprehensive overview of problems and solutions related to various types of suspension springs in vehicles..\\n\\nTire Safety: Measures and practices aimed at ensuring safety throughout the tire service and driving experience..\\n\\nAir Conditioning Effectiveness: The overall performance and functionality of the air conditioning system in vehicles, focusing on its ability to provide cool air efficiently..\\n\\nTire Repair Methods: Various techniques and methods for fixing punctures and damages in tires..\\n\\nTyre Inspection: The systematic evaluation of tire condition and safety to ensure optimal performance..\\n\\nCost Affordability: The extensive discussion around the reasonable and cost-effective pricing of services offered, catering to varied customer budgets and financial constraints..\\n\""
      ]
     },
     "execution_count": 31,
     "metadata": {},
     "output_type": "execute_result"
    }
   ],
   "source": [
    "user_input"
   ]
  },
  {
   "cell_type": "code",
   "execution_count": 30,
   "metadata": {},
   "outputs": [
    {
     "data": {
      "text/plain": [
       "{}"
      ]
     },
     "execution_count": 30,
     "metadata": {},
     "output_type": "execute_result"
    }
   ],
   "source": [
    "user_input = process(leaf_topic_chunks[0])\n",
    "\n",
    "api_key = os.environ.get(\"ANTHROPIC_API_KEY\")\n",
    "\n",
    "analysis = analyze_text_with_claude(api_key, user_input)\n",
    "\n",
    "analysis\n"
   ]
  },
  {
   "cell_type": "markdown",
   "metadata": {},
   "source": []
  },
  {
   "cell_type": "code",
   "execution_count": null,
   "metadata": {},
   "outputs": [
    {
     "name": "stdout",
     "output_type": "stream",
     "text": [
      "Sentiment: positive\n",
      "Main topics: tool use, Claude\n",
      "Word count: 10\n"
     ]
    }
   ],
   "source": [
    "api_key = os.environ.get(\"ANTHROPIC_API_KEY\")\n",
    " \n",
    "analysis = analyze_text_with_claude(api_key, sample_text)\n"
   ]
  },
  {
   "cell_type": "code",
   "execution_count": 5,
   "metadata": {},
   "outputs": [
    {
     "data": {
      "text/plain": [
       "TextAnalysis(sentiment='positive', main_topics=['tool use', 'Claude'], word_count=10)"
      ]
     },
     "execution_count": 5,
     "metadata": {},
     "output_type": "execute_result"
    }
   ],
   "source": [
    "analysis"
   ]
  },
  {
   "cell_type": "code",
   "execution_count": 37,
   "metadata": {},
   "outputs": [
    {
     "data": {
      "text/plain": [
       "anthropic.Anthropic"
      ]
     },
     "execution_count": 37,
     "metadata": {},
     "output_type": "execute_result"
    }
   ],
   "source": [
    "type(client)"
   ]
  },
  {
   "cell_type": "code",
   "execution_count": 33,
   "metadata": {},
   "outputs": [
    {
     "name": "stdout",
     "output_type": "stream",
     "text": [
      "[ToolUseBlock(id='toolu_017N2xH93LtjyjDPV9wJLqL1', input={'categories': [{'name': 'Tire Services and Maintenance', 'description': 'All aspects of tire-related services including installation, repair, inspection, and seasonal changes', 'topics': ['Tyre Repair Services', 'Tire Problems', 'Seasonal Tire Change', 'Winter Tire Installation', 'Tire Puncture Issues', 'Puncture Repair Services', 'Tire Service Response', 'Tyre Fitting Services', 'Tyre Availability', 'Tire Patch Services', 'Tire Safety', 'Tire Repair Methods', 'Tyre Inspection', 'Tire Reliability', 'Tire Pressure Guidelines', 'Spare Tire Issues']}, {'name': 'Pricing and Value', 'description': 'Topics related to service costs, pricing transparency, and value assessment', 'topics': ['Pricing Clarity', 'Service Pricing', 'Affordable Pricing', 'Quality-Price Ratio', 'Pricing Comparison', 'Cost Affordability', 'Competitor Analysis']}, {'name': 'Vehicle Mechanical Systems', 'description': 'Issues and services related to core vehicle mechanical components and systems', 'topics': ['Brake Issues', 'Steering Issues', 'Brake Pad Replacement', 'Suspension Spring Issues', 'Wheel Issues', 'Gasket Mechanics', 'Air Conditioning Effectiveness', 'Engine Oil Management']}, {'name': 'Service Quality and Management', 'description': 'Aspects related to service delivery, customer support, and maintenance organization', 'topics': ['Customer Support', 'Service Failures', 'Maintenance Management', 'Performance Evaluation', 'Tesla Service Expertise', 'Pickup And Drop-Off', 'Mechanical Repair Services', 'Diagnosis Accuracy']}, {'name': 'Technical Tools and Procedures', 'description': 'Specific technical aspects of vehicle maintenance and repair procedures', 'topics': ['Torque Tools', 'Wheel Nut Issues', 'Nut Tightening', 'Assembly And Disassembly', 'Filter Maintenance']}, {'name': 'Vehicle Diagnostics and Issues', 'description': 'Warning systems, inspection results, and vehicle performance problems', 'topics': ['Vehicle Inspection Results', 'Vehicle Failures', 'Engine Warning Indicators', 'Dashboard Warning Lights', 'Product Defects', 'Product Durability']}]}, name='build_categorizer_agent_result', type='tool_use')]\n"
     ]
    }
   ],
   "source": [
    "import anthropic\n",
    "\n",
    "client = anthropic.Anthropic(\n",
    ")\n",
    "\n",
    "topic_categorization_schema = Categorizer_Agent_Output.model_json_schema()\n",
    "tools = [\n",
    "    {\n",
    "        \"name\": \"build_categorizer_agent_result\",\n",
    "        \"description\": \"build the Categorizer output object\",\n",
    "        \"input_schema\": topic_categorization_schema\n",
    "    }\n",
    "]\n",
    "\n",
    "message = client.messages.create(\n",
    "    model=\"claude-3-5-sonnet-20241022\",\n",
    "    max_tokens=1000,\n",
    "    temperature=0,\n",
    "    system=\"You are a taxonomy expert in customer reviews. \\nYou are given a list of topics and descriptions from the domain {domain}.\\nYour task is to group these topics into high-level categories that make sense for a customer review analysis.\\n\\nGuidelines:\\n1) Every topic must be included in a category.\\n2) Each category should have a name and a one-sentence description.\\n3) The category names should represent the all of the topics that belong to the category.\\n4) The categories should be distinct from each other.\\n5) The categories can vary in size.\\n\\nImportant:\\n- Do not leave any topics uncategorized.\\n- For outlier topics, create a new category for them.\",\n",
    "    messages=[\n",
    "        {\n",
    "            \"role\": \"user\",\n",
    "            \"content\": [\n",
    "                {\n",
    "                    \"type\": \"text\",\n",
    "                    \"text\": \"Customer Support: The overall quality of assistance and support provided by staff to customers..\\\\n\\\\nSpare Tire Issues: Concerns and inquiries regarding the availability, inclusion, and condition of spare tires for vehicles..\\\\n\\\\nPricing Clarity: The clear and open communication about costs associated with services, ensuring transparency and avoiding hidden fees..\\\\n\\\\nTyre Repair Services: A focus on the services offered for fixing damaged tyres..\\\\n\\\\nBrake Issues: Concerns and problems related to the performance, condition, and functionality of vehicle braking systems..\\\\n\\\\nService Pricing: A comprehensive overview of customer perceptions regarding the affordability and fairness of service costs..\\\\n\\\\nAffordable Pricing: This topic encompasses the overall perception of cost-effectiveness and fairness in pricing for tires and related services..\\\\n\\\\nTire Problems: Various issues related to tires, including damage caused by screws or nails and incorrect mounting..\\\\n\\\\nTorque Tools: A category of tools focused on ensuring the proper application of torque for tightening or loosening fasteners..\\\\n\\\\nSteering Issues: Concerns and problems related to the functionality and alignment of vehicle steering mechanisms..\\\\n\\\\nPerformance Evaluation: The process of assessing the vehicle's performance through test drives and evaluations post-service..\\\\n\\\\nBrake Pad Replacement: A comprehensive process involving the removal, installation, and servicing of brake pads to maintain vehicle safety and performance..\\\\n\\\\nTesla Service Expertise: A comprehensive understanding and specialized capability in servicing Tesla vehicles and electric vehicles..\\\\n\\\\nProduct Durability: The overall duration and effectiveness of various vehicle components before they require replacement..\\\\n\\\\nWheel Nut Issues: Concerns related to the condition, handling, and replacement of wheel nuts during tire service..\\\\n\\\\nTire Pressure Guidelines: Comprehensive recommendations and specifications regarding tire air pressure for optimal performance..\\\\n\\\\nPickup And Drop-Off: A cluster focusing on the scheduled and actual timings related to vehicle pickup and drop-off services..\\\\n\\\\nVehicle Inspection Results: An overview of various outcomes related to vehicle inspections, including approval statuses and identified issues..\\\\n\\\\nSeasonal Tire Change: The act of swapping and managing tires according to seasonal weather conditions..\\\\n\\\\nFilter Maintenance: The comprehensive service involving the replacement and maintenance of various filters in vehicles to ensure optimal performance and air quality..\\\\n\\\\nTire Reliability: The consistent dependability and performance of tires under various conditions without problems..\\\\n\\\\nWinter Tire Installation: This topic focuses on the installation and servicing of winter tires for vehicles..\\\\n\\\\nTire Puncture Issues: Specific problems related to punctures caused by foreign objects in tires..\\\\n\\\\nMechanical Repair Services: Comprehensive services focused on the maintenance and repair of vehicle mechanical systems..\\\\n\\\\nDiagnosis Accuracy: The precision and reliability of vehicle diagnostics and problem identification..\\\\n\\\\nVehicle Failures: Various incidents of unexpected breakdowns and malfunctions affecting vehicle operation..\\\\n\\\\nEngine Warning Indicators: A category of warning lights related to potential issues with a vehicle's engine or emissions system..\\\\n\\\\nService Failures: A collection of issues highlighting inadequate skills, poor organization, and lack of accountability in service delivery..\\\\n\\\\nPuncture Repair Services: The service dedicated to fixing slow punctures in tires..\\\\n\\\\nTire Service Response: The quick and efficient actions taken by technicians to address tire issues..\\\\n\\\\nTyre Fitting Services: A comprehensive overview of services related to the installation of tires, including mobile and location-based fitting options..\\\\n\\\\nTyre Availability: The status and accessibility of specific tyres available for customers..\\\\n\\\\nNut Tightening: The process and techniques used to securely fasten wheel nuts for safety and performance..\\\\n\\\\nCompetitor Analysis: An evaluation of service quality, pricing, and experiences compared to various competing tire service providers..\\\\n\\\\nTire Patch Services: The various methods and services related to repairing tires using patches..\\\\n\\\\nMaintenance Management: The organization and effectiveness of vehicle maintenance tasks and scheduling..\\\\n\\\\nQuality-Price Ratio: The assessment of the relationship between the quality and cost of tires, emphasizing their value for money..\\\\n\\\\nEngine Oil Management: The comprehensive assessment and concerns regarding the type, level, condition, and quality of engine oil in vehicles..\\\\n\\\\nAssembly And Disassembly: The processes and challenges involved in taking apart and putting back together vehicle components, particularly tires and rims..\\\\n\\\\nDashboard Warning Lights: Issues related to various dashboard warning lights showing malfunctions in the vehicle..\\\\n\\\\nPricing Comparison: An analysis of the service costs in relation to competitors and perceived value..\\\\n\\\\nGasket Mechanics: A focused discussion on issues, quality, and maintenance related to gaskets, particularly head gaskets, in vehicles..\\\\n\\\\nProduct Defects: Issues related to various defects and malfunctions encountered in automotive products and services..\\\\n\\\\nWheel Issues: Various problems and concerns relating to the performance and functionality of vehicle wheels..\\\\n\\\\nSuspension Spring Issues: A comprehensive overview of problems and solutions related to various types of suspension springs in vehicles..\\\\n\\\\nTire Safety: Measures and practices aimed at ensuring safety throughout the tire service and driving experience..\\\\n\\\\nAir Conditioning Effectiveness: The overall performance and functionality of the air conditioning system in vehicles, focusing on its ability to provide cool air efficiently..\\\\n\\\\nTire Repair Methods: Various techniques and methods for fixing punctures and damages in tires..\\\\n\\\\nTyre Inspection: The systematic evaluation of tire condition and safety to ensure optimal performance..\\\\n\\\\nCost Affordability: The extensive discussion around the reasonable and cost-effective pricing of services offered, catering to varied customer budgets and financial constraints.\"\n",
    "                }\n",
    "            ]\n",
    "        }\n",
    "    ],\n",
    "    tools=tools,\n",
    "    tool_choice={\"type\": \"tool\", \"name\": \"build_categorizer_agent_result\"}\n",
    ")\n",
    "print(message.content)"
   ]
  },
  {
   "cell_type": "code",
   "execution_count": 36,
   "metadata": {},
   "outputs": [
    {
     "name": "stdout",
     "output_type": "stream",
     "text": [
      "\n",
      "\u001b[1;31mGive Feedback / Get Help: https://github.com/BerriAI/litellm/issues/new\u001b[0m\n",
      "LiteLLM.Info: If you need to debug this error, use `litellm.set_verbose=True'.\n",
      "\n"
     ]
    },
    {
     "ename": "BadRequestError",
     "evalue": "litellm.BadRequestError: AnthropicException - {\"type\":\"error\",\"error\":{\"type\":\"invalid_request_error\",\"message\":\"tool_choice.tool.name: Field required\"}}",
     "output_type": "error",
     "traceback": [
      "\u001b[0;31m---------------------------------------------------------------------------\u001b[0m",
      "\u001b[0;31mHTTPStatusError\u001b[0m                           Traceback (most recent call last)",
      "File \u001b[0;32m~/Work/BigIfTree/.venv/lib/python3.12/site-packages/litellm/llms/anthropic/chat/handler.py:453\u001b[0m, in \u001b[0;36mAnthropicChatCompletion.completion\u001b[0;34m(self, model, messages, api_base, custom_prompt_dict, model_response, print_verbose, encoding, api_key, logging_obj, optional_params, timeout, litellm_params, acompletion, logger_fn, headers, client)\u001b[0m\n\u001b[1;32m    452\u001b[0m \u001b[38;5;28;01mtry\u001b[39;00m:\n\u001b[0;32m--> 453\u001b[0m     response \u001b[38;5;241m=\u001b[39m \u001b[43mclient\u001b[49m\u001b[38;5;241;43m.\u001b[39;49m\u001b[43mpost\u001b[49m\u001b[43m(\u001b[49m\n\u001b[1;32m    454\u001b[0m \u001b[43m        \u001b[49m\u001b[43mapi_base\u001b[49m\u001b[43m,\u001b[49m\n\u001b[1;32m    455\u001b[0m \u001b[43m        \u001b[49m\u001b[43mheaders\u001b[49m\u001b[38;5;241;43m=\u001b[39;49m\u001b[43mheaders\u001b[49m\u001b[43m,\u001b[49m\n\u001b[1;32m    456\u001b[0m \u001b[43m        \u001b[49m\u001b[43mdata\u001b[49m\u001b[38;5;241;43m=\u001b[39;49m\u001b[43mjson\u001b[49m\u001b[38;5;241;43m.\u001b[39;49m\u001b[43mdumps\u001b[49m\u001b[43m(\u001b[49m\u001b[43mdata\u001b[49m\u001b[43m)\u001b[49m\u001b[43m,\u001b[49m\n\u001b[1;32m    457\u001b[0m \u001b[43m        \u001b[49m\u001b[43mtimeout\u001b[49m\u001b[38;5;241;43m=\u001b[39;49m\u001b[43mtimeout\u001b[49m\u001b[43m,\u001b[49m\n\u001b[1;32m    458\u001b[0m \u001b[43m    \u001b[49m\u001b[43m)\u001b[49m\n\u001b[1;32m    459\u001b[0m \u001b[38;5;28;01mexcept\u001b[39;00m \u001b[38;5;167;01mException\u001b[39;00m \u001b[38;5;28;01mas\u001b[39;00m e:\n",
      "File \u001b[0;32m~/Work/BigIfTree/.venv/lib/python3.12/site-packages/litellm/llms/custom_httpx/http_handler.py:407\u001b[0m, in \u001b[0;36mHTTPHandler.post\u001b[0;34m(self, url, data, json, params, headers, stream, timeout)\u001b[0m\n\u001b[1;32m    406\u001b[0m         \u001b[38;5;28msetattr\u001b[39m(e, \u001b[38;5;124m\"\u001b[39m\u001b[38;5;124mmessage\u001b[39m\u001b[38;5;124m\"\u001b[39m, e\u001b[38;5;241m.\u001b[39mresponse\u001b[38;5;241m.\u001b[39mtext)\n\u001b[0;32m--> 407\u001b[0m     \u001b[38;5;28;01mraise\u001b[39;00m e\n\u001b[1;32m    408\u001b[0m \u001b[38;5;28;01mexcept\u001b[39;00m \u001b[38;5;167;01mException\u001b[39;00m \u001b[38;5;28;01mas\u001b[39;00m e:\n",
      "File \u001b[0;32m~/Work/BigIfTree/.venv/lib/python3.12/site-packages/litellm/llms/custom_httpx/http_handler.py:393\u001b[0m, in \u001b[0;36mHTTPHandler.post\u001b[0;34m(self, url, data, json, params, headers, stream, timeout)\u001b[0m\n\u001b[1;32m    392\u001b[0m response \u001b[38;5;241m=\u001b[39m \u001b[38;5;28mself\u001b[39m\u001b[38;5;241m.\u001b[39mclient\u001b[38;5;241m.\u001b[39msend(req, stream\u001b[38;5;241m=\u001b[39mstream)\n\u001b[0;32m--> 393\u001b[0m \u001b[43mresponse\u001b[49m\u001b[38;5;241;43m.\u001b[39;49m\u001b[43mraise_for_status\u001b[49m\u001b[43m(\u001b[49m\u001b[43m)\u001b[49m\n\u001b[1;32m    394\u001b[0m \u001b[38;5;28;01mreturn\u001b[39;00m response\n",
      "File \u001b[0;32m~/Work/BigIfTree/.venv/lib/python3.12/site-packages/httpx/_models.py:763\u001b[0m, in \u001b[0;36mResponse.raise_for_status\u001b[0;34m(self)\u001b[0m\n\u001b[1;32m    762\u001b[0m message \u001b[38;5;241m=\u001b[39m message\u001b[38;5;241m.\u001b[39mformat(\u001b[38;5;28mself\u001b[39m, error_type\u001b[38;5;241m=\u001b[39merror_type)\n\u001b[0;32m--> 763\u001b[0m \u001b[38;5;28;01mraise\u001b[39;00m HTTPStatusError(message, request\u001b[38;5;241m=\u001b[39mrequest, response\u001b[38;5;241m=\u001b[39m\u001b[38;5;28mself\u001b[39m)\n",
      "\u001b[0;31mHTTPStatusError\u001b[0m: Client error '400 Bad Request' for url 'https://api.anthropic.com/v1/messages'\nFor more information check: https://developer.mozilla.org/en-US/docs/Web/HTTP/Status/400",
      "\nDuring handling of the above exception, another exception occurred:\n",
      "\u001b[0;31mAnthropicError\u001b[0m                            Traceback (most recent call last)",
      "File \u001b[0;32m~/Work/BigIfTree/.venv/lib/python3.12/site-packages/litellm/main.py:1773\u001b[0m, in \u001b[0;36mcompletion\u001b[0;34m(model, messages, timeout, temperature, top_p, n, stream, stream_options, stop, max_completion_tokens, max_tokens, modalities, prediction, audio, presence_penalty, frequency_penalty, logit_bias, user, response_format, seed, tools, tool_choice, logprobs, top_logprobs, parallel_tool_calls, deployment_id, extra_headers, functions, function_call, base_url, api_version, api_key, model_list, **kwargs)\u001b[0m\n\u001b[1;32m   1771\u001b[0m         api_base \u001b[38;5;241m+\u001b[39m\u001b[38;5;241m=\u001b[39m \u001b[38;5;124m\"\u001b[39m\u001b[38;5;124m/v1/messages\u001b[39m\u001b[38;5;124m\"\u001b[39m\n\u001b[0;32m-> 1773\u001b[0m     response \u001b[38;5;241m=\u001b[39m \u001b[43manthropic_chat_completions\u001b[49m\u001b[38;5;241;43m.\u001b[39;49m\u001b[43mcompletion\u001b[49m\u001b[43m(\u001b[49m\n\u001b[1;32m   1774\u001b[0m \u001b[43m        \u001b[49m\u001b[43mmodel\u001b[49m\u001b[38;5;241;43m=\u001b[39;49m\u001b[43mmodel\u001b[49m\u001b[43m,\u001b[49m\n\u001b[1;32m   1775\u001b[0m \u001b[43m        \u001b[49m\u001b[43mmessages\u001b[49m\u001b[38;5;241;43m=\u001b[39;49m\u001b[43mmessages\u001b[49m\u001b[43m,\u001b[49m\n\u001b[1;32m   1776\u001b[0m \u001b[43m        \u001b[49m\u001b[43mapi_base\u001b[49m\u001b[38;5;241;43m=\u001b[39;49m\u001b[43mapi_base\u001b[49m\u001b[43m,\u001b[49m\n\u001b[1;32m   1777\u001b[0m \u001b[43m        \u001b[49m\u001b[43macompletion\u001b[49m\u001b[38;5;241;43m=\u001b[39;49m\u001b[43macompletion\u001b[49m\u001b[43m,\u001b[49m\n\u001b[1;32m   1778\u001b[0m \u001b[43m        \u001b[49m\u001b[43mcustom_prompt_dict\u001b[49m\u001b[38;5;241;43m=\u001b[39;49m\u001b[43mlitellm\u001b[49m\u001b[38;5;241;43m.\u001b[39;49m\u001b[43mcustom_prompt_dict\u001b[49m\u001b[43m,\u001b[49m\n\u001b[1;32m   1779\u001b[0m \u001b[43m        \u001b[49m\u001b[43mmodel_response\u001b[49m\u001b[38;5;241;43m=\u001b[39;49m\u001b[43mmodel_response\u001b[49m\u001b[43m,\u001b[49m\n\u001b[1;32m   1780\u001b[0m \u001b[43m        \u001b[49m\u001b[43mprint_verbose\u001b[49m\u001b[38;5;241;43m=\u001b[39;49m\u001b[43mprint_verbose\u001b[49m\u001b[43m,\u001b[49m\n\u001b[1;32m   1781\u001b[0m \u001b[43m        \u001b[49m\u001b[43moptional_params\u001b[49m\u001b[38;5;241;43m=\u001b[39;49m\u001b[43moptional_params\u001b[49m\u001b[43m,\u001b[49m\n\u001b[1;32m   1782\u001b[0m \u001b[43m        \u001b[49m\u001b[43mlitellm_params\u001b[49m\u001b[38;5;241;43m=\u001b[39;49m\u001b[43mlitellm_params\u001b[49m\u001b[43m,\u001b[49m\n\u001b[1;32m   1783\u001b[0m \u001b[43m        \u001b[49m\u001b[43mlogger_fn\u001b[49m\u001b[38;5;241;43m=\u001b[39;49m\u001b[43mlogger_fn\u001b[49m\u001b[43m,\u001b[49m\n\u001b[1;32m   1784\u001b[0m \u001b[43m        \u001b[49m\u001b[43mencoding\u001b[49m\u001b[38;5;241;43m=\u001b[39;49m\u001b[43mencoding\u001b[49m\u001b[43m,\u001b[49m\u001b[43m  \u001b[49m\u001b[38;5;66;43;03m# for calculating input/output tokens\u001b[39;49;00m\n\u001b[1;32m   1785\u001b[0m \u001b[43m        \u001b[49m\u001b[43mapi_key\u001b[49m\u001b[38;5;241;43m=\u001b[39;49m\u001b[43mapi_key\u001b[49m\u001b[43m,\u001b[49m\n\u001b[1;32m   1786\u001b[0m \u001b[43m        \u001b[49m\u001b[43mlogging_obj\u001b[49m\u001b[38;5;241;43m=\u001b[39;49m\u001b[43mlogging\u001b[49m\u001b[43m,\u001b[49m\n\u001b[1;32m   1787\u001b[0m \u001b[43m        \u001b[49m\u001b[43mheaders\u001b[49m\u001b[38;5;241;43m=\u001b[39;49m\u001b[43mheaders\u001b[49m\u001b[43m,\u001b[49m\n\u001b[1;32m   1788\u001b[0m \u001b[43m        \u001b[49m\u001b[43mtimeout\u001b[49m\u001b[38;5;241;43m=\u001b[39;49m\u001b[43mtimeout\u001b[49m\u001b[43m,\u001b[49m\n\u001b[1;32m   1789\u001b[0m \u001b[43m        \u001b[49m\u001b[43mclient\u001b[49m\u001b[38;5;241;43m=\u001b[39;49m\u001b[43mclient\u001b[49m\u001b[43m,\u001b[49m\n\u001b[1;32m   1790\u001b[0m \u001b[43m    \u001b[49m\u001b[43m)\u001b[49m\n\u001b[1;32m   1791\u001b[0m \u001b[38;5;28;01mif\u001b[39;00m optional_params\u001b[38;5;241m.\u001b[39mget(\u001b[38;5;124m\"\u001b[39m\u001b[38;5;124mstream\u001b[39m\u001b[38;5;124m\"\u001b[39m, \u001b[38;5;28;01mFalse\u001b[39;00m) \u001b[38;5;129;01mor\u001b[39;00m acompletion \u001b[38;5;129;01mis\u001b[39;00m \u001b[38;5;28;01mTrue\u001b[39;00m:\n\u001b[1;32m   1792\u001b[0m     \u001b[38;5;66;03m## LOGGING\u001b[39;00m\n",
      "File \u001b[0;32m~/Work/BigIfTree/.venv/lib/python3.12/site-packages/litellm/llms/anthropic/chat/handler.py:468\u001b[0m, in \u001b[0;36mAnthropicChatCompletion.completion\u001b[0;34m(self, model, messages, api_base, custom_prompt_dict, model_response, print_verbose, encoding, api_key, logging_obj, optional_params, timeout, litellm_params, acompletion, logger_fn, headers, client)\u001b[0m\n\u001b[1;32m    467\u001b[0m                 error_text \u001b[38;5;241m=\u001b[39m \u001b[38;5;28mgetattr\u001b[39m(error_response, \u001b[38;5;124m\"\u001b[39m\u001b[38;5;124mtext\u001b[39m\u001b[38;5;124m\"\u001b[39m, error_text)\n\u001b[0;32m--> 468\u001b[0m             \u001b[38;5;28;01mraise\u001b[39;00m AnthropicError(\n\u001b[1;32m    469\u001b[0m                 message\u001b[38;5;241m=\u001b[39merror_text,\n\u001b[1;32m    470\u001b[0m                 status_code\u001b[38;5;241m=\u001b[39mstatus_code,\n\u001b[1;32m    471\u001b[0m                 headers\u001b[38;5;241m=\u001b[39merror_headers,\n\u001b[1;32m    472\u001b[0m             )\n\u001b[1;32m    474\u001b[0m \u001b[38;5;28;01mreturn\u001b[39;00m AnthropicConfig\u001b[38;5;241m.\u001b[39m_process_response(\n\u001b[1;32m    475\u001b[0m     model\u001b[38;5;241m=\u001b[39mmodel,\n\u001b[1;32m    476\u001b[0m     response\u001b[38;5;241m=\u001b[39mresponse,\n\u001b[0;32m   (...)\u001b[0m\n\u001b[1;32m    486\u001b[0m     json_mode\u001b[38;5;241m=\u001b[39mjson_mode,\n\u001b[1;32m    487\u001b[0m )\n",
      "\u001b[0;31mAnthropicError\u001b[0m: {\"type\":\"error\",\"error\":{\"type\":\"invalid_request_error\",\"message\":\"tool_choice.tool.name: Field required\"}}",
      "\nDuring handling of the above exception, another exception occurred:\n",
      "\u001b[0;31mBadRequestError\u001b[0m                           Traceback (most recent call last)",
      "Cell \u001b[0;32mIn[36], line 12\u001b[0m\n\u001b[1;32m      3\u001b[0m topic_categorization_schema \u001b[38;5;241m=\u001b[39m Categorizer_Agent_Output\u001b[38;5;241m.\u001b[39mmodel_json_schema()\n\u001b[1;32m      4\u001b[0m tools \u001b[38;5;241m=\u001b[39m [\n\u001b[1;32m      5\u001b[0m     {\n\u001b[1;32m      6\u001b[0m         \u001b[38;5;124m\"\u001b[39m\u001b[38;5;124mname\u001b[39m\u001b[38;5;124m\"\u001b[39m: \u001b[38;5;124m\"\u001b[39m\u001b[38;5;124mbuild_categorizer_agent_result\u001b[39m\u001b[38;5;124m\"\u001b[39m,\n\u001b[0;32m   (...)\u001b[0m\n\u001b[1;32m      9\u001b[0m     }\n\u001b[1;32m     10\u001b[0m ]\n\u001b[0;32m---> 12\u001b[0m response \u001b[38;5;241m=\u001b[39m \u001b[43mcompletion\u001b[49m\u001b[43m(\u001b[49m\n\u001b[1;32m     13\u001b[0m \u001b[43m    \u001b[49m\u001b[43mmodel\u001b[49m\u001b[38;5;241;43m=\u001b[39;49m\u001b[38;5;124;43m\"\u001b[39;49m\u001b[38;5;124;43manthropic/claude-3-5-sonnet-20241022\u001b[39;49m\u001b[38;5;124;43m\"\u001b[39;49m\u001b[43m,\u001b[49m\n\u001b[1;32m     14\u001b[0m \u001b[43m    \u001b[49m\u001b[43mmax_tokens\u001b[49m\u001b[38;5;241;43m=\u001b[39;49m\u001b[38;5;241;43m1000\u001b[39;49m\u001b[43m,\u001b[49m\n\u001b[1;32m     15\u001b[0m \u001b[43m    \u001b[49m\u001b[43mtemperature\u001b[49m\u001b[38;5;241;43m=\u001b[39;49m\u001b[38;5;241;43m0\u001b[39;49m\u001b[43m,\u001b[49m\n\u001b[1;32m     16\u001b[0m \u001b[43m    \u001b[49m\u001b[43mmessages\u001b[49m\u001b[38;5;241;43m=\u001b[39;49m\u001b[43m[\u001b[49m\n\u001b[1;32m     17\u001b[0m \u001b[43m        \u001b[49m\u001b[43m{\u001b[49m\n\u001b[1;32m     18\u001b[0m \u001b[43m            \u001b[49m\u001b[38;5;124;43m\"\u001b[39;49m\u001b[38;5;124;43mrole\u001b[39;49m\u001b[38;5;124;43m\"\u001b[39;49m\u001b[43m:\u001b[49m\u001b[43m \u001b[49m\u001b[38;5;124;43m\"\u001b[39;49m\u001b[38;5;124;43msystem\u001b[39;49m\u001b[38;5;124;43m\"\u001b[39;49m\u001b[43m,\u001b[49m\n\u001b[1;32m     19\u001b[0m \u001b[43m            \u001b[49m\u001b[38;5;124;43m\"\u001b[39;49m\u001b[38;5;124;43mcontent\u001b[39;49m\u001b[38;5;124;43m\"\u001b[39;49m\u001b[43m:\u001b[49m\u001b[38;5;124;43m\"\u001b[39;49m\u001b[38;5;124;43mYou are a taxonomy expert in customer reviews. \u001b[39;49m\u001b[38;5;130;43;01m\\n\u001b[39;49;00m\u001b[38;5;124;43mYou are given a list of topics and descriptions from the domain \u001b[39;49m\u001b[38;5;132;43;01m{domain}\u001b[39;49;00m\u001b[38;5;124;43m.\u001b[39;49m\u001b[38;5;130;43;01m\\n\u001b[39;49;00m\u001b[38;5;124;43mYour task is to group these topics into high-level categories that make sense for a customer review analysis.\u001b[39;49m\u001b[38;5;130;43;01m\\n\u001b[39;49;00m\u001b[38;5;130;43;01m\\n\u001b[39;49;00m\u001b[38;5;124;43mGuidelines:\u001b[39;49m\u001b[38;5;130;43;01m\\n\u001b[39;49;00m\u001b[38;5;124;43m1) Every topic must be included in a category.\u001b[39;49m\u001b[38;5;130;43;01m\\n\u001b[39;49;00m\u001b[38;5;124;43m2) Each category should have a name and a one-sentence description.\u001b[39;49m\u001b[38;5;130;43;01m\\n\u001b[39;49;00m\u001b[38;5;124;43m3) The category names should represent the all of the topics that belong to the category.\u001b[39;49m\u001b[38;5;130;43;01m\\n\u001b[39;49;00m\u001b[38;5;124;43m4) The categories should be distinct from each other.\u001b[39;49m\u001b[38;5;130;43;01m\\n\u001b[39;49;00m\u001b[38;5;124;43m5) The categories can vary in size.\u001b[39;49m\u001b[38;5;130;43;01m\\n\u001b[39;49;00m\u001b[38;5;130;43;01m\\n\u001b[39;49;00m\u001b[38;5;124;43mImportant:\u001b[39;49m\u001b[38;5;130;43;01m\\n\u001b[39;49;00m\u001b[38;5;124;43m- Do not leave any topics uncategorized.\u001b[39;49m\u001b[38;5;130;43;01m\\n\u001b[39;49;00m\u001b[38;5;124;43m- For outlier topics, create a new category for them.\u001b[39;49m\u001b[38;5;124;43m\"\u001b[39;49m\u001b[43m,\u001b[49m\n\u001b[1;32m     20\u001b[0m \u001b[43m        \u001b[49m\u001b[43m}\u001b[49m\u001b[43m,\u001b[49m\n\u001b[1;32m     21\u001b[0m \u001b[43m        \u001b[49m\u001b[43m{\u001b[49m\n\u001b[1;32m     22\u001b[0m \u001b[43m            \u001b[49m\u001b[38;5;124;43m\"\u001b[39;49m\u001b[38;5;124;43mrole\u001b[39;49m\u001b[38;5;124;43m\"\u001b[39;49m\u001b[43m:\u001b[49m\u001b[43m \u001b[49m\u001b[38;5;124;43m\"\u001b[39;49m\u001b[38;5;124;43muser\u001b[39;49m\u001b[38;5;124;43m\"\u001b[39;49m\u001b[43m,\u001b[49m\n\u001b[1;32m     23\u001b[0m \u001b[43m            \u001b[49m\u001b[38;5;124;43m\"\u001b[39;49m\u001b[38;5;124;43mcontent\u001b[39;49m\u001b[38;5;124;43m\"\u001b[39;49m\u001b[43m:\u001b[49m\u001b[43m \u001b[49m\u001b[38;5;124;43m\"\u001b[39;49m\u001b[38;5;124;43mCustomer Support: The overall quality of assistance and support provided by staff to customers..\u001b[39;49m\u001b[38;5;130;43;01m\\\\\u001b[39;49;00m\u001b[38;5;124;43mn\u001b[39;49m\u001b[38;5;130;43;01m\\\\\u001b[39;49;00m\u001b[38;5;124;43mnSpare Tire Issues: Concerns and inquiries regarding the availability, inclusion, and condition of spare tires for vehicles..\u001b[39;49m\u001b[38;5;130;43;01m\\\\\u001b[39;49;00m\u001b[38;5;124;43mn\u001b[39;49m\u001b[38;5;130;43;01m\\\\\u001b[39;49;00m\u001b[38;5;124;43mnPricing Clarity: The clear and open communication about costs associated with services, ensuring transparency and avoiding hidden fees..\u001b[39;49m\u001b[38;5;130;43;01m\\\\\u001b[39;49;00m\u001b[38;5;124;43mn\u001b[39;49m\u001b[38;5;130;43;01m\\\\\u001b[39;49;00m\u001b[38;5;124;43mnTyre Repair Services: A focus on the services offered for fixing damaged tyres..\u001b[39;49m\u001b[38;5;130;43;01m\\\\\u001b[39;49;00m\u001b[38;5;124;43mn\u001b[39;49m\u001b[38;5;130;43;01m\\\\\u001b[39;49;00m\u001b[38;5;124;43mnBrake Issues: Concerns and problems related to the performance, condition, and functionality of vehicle braking systems..\u001b[39;49m\u001b[38;5;130;43;01m\\\\\u001b[39;49;00m\u001b[38;5;124;43mn\u001b[39;49m\u001b[38;5;130;43;01m\\\\\u001b[39;49;00m\u001b[38;5;124;43mnService Pricing: A comprehensive overview of customer perceptions regarding the affordability and fairness of service costs..\u001b[39;49m\u001b[38;5;130;43;01m\\\\\u001b[39;49;00m\u001b[38;5;124;43mn\u001b[39;49m\u001b[38;5;130;43;01m\\\\\u001b[39;49;00m\u001b[38;5;124;43mnAffordable Pricing: This topic encompasses the overall perception of cost-effectiveness and fairness in pricing for tires and related services..\u001b[39;49m\u001b[38;5;130;43;01m\\\\\u001b[39;49;00m\u001b[38;5;124;43mn\u001b[39;49m\u001b[38;5;130;43;01m\\\\\u001b[39;49;00m\u001b[38;5;124;43mnTire Problems: Various issues related to tires, including damage caused by screws or nails and incorrect mounting..\u001b[39;49m\u001b[38;5;130;43;01m\\\\\u001b[39;49;00m\u001b[38;5;124;43mn\u001b[39;49m\u001b[38;5;130;43;01m\\\\\u001b[39;49;00m\u001b[38;5;124;43mnTorque Tools: A category of tools focused on ensuring the proper application of torque for tightening or loosening fasteners..\u001b[39;49m\u001b[38;5;130;43;01m\\\\\u001b[39;49;00m\u001b[38;5;124;43mn\u001b[39;49m\u001b[38;5;130;43;01m\\\\\u001b[39;49;00m\u001b[38;5;124;43mnSteering Issues: Concerns and problems related to the functionality and alignment of vehicle steering mechanisms..\u001b[39;49m\u001b[38;5;130;43;01m\\\\\u001b[39;49;00m\u001b[38;5;124;43mn\u001b[39;49m\u001b[38;5;130;43;01m\\\\\u001b[39;49;00m\u001b[38;5;124;43mnPerformance Evaluation: The process of assessing the vehicle\u001b[39;49m\u001b[38;5;124;43m'\u001b[39;49m\u001b[38;5;124;43ms performance through test drives and evaluations post-service..\u001b[39;49m\u001b[38;5;130;43;01m\\\\\u001b[39;49;00m\u001b[38;5;124;43mn\u001b[39;49m\u001b[38;5;130;43;01m\\\\\u001b[39;49;00m\u001b[38;5;124;43mnBrake Pad Replacement: A comprehensive process involving the removal, installation, and servicing of brake pads to maintain vehicle safety and performance..\u001b[39;49m\u001b[38;5;130;43;01m\\\\\u001b[39;49;00m\u001b[38;5;124;43mn\u001b[39;49m\u001b[38;5;130;43;01m\\\\\u001b[39;49;00m\u001b[38;5;124;43mnTesla Service Expertise: A comprehensive understanding and specialized capability in servicing Tesla vehicles and electric vehicles..\u001b[39;49m\u001b[38;5;130;43;01m\\\\\u001b[39;49;00m\u001b[38;5;124;43mn\u001b[39;49m\u001b[38;5;130;43;01m\\\\\u001b[39;49;00m\u001b[38;5;124;43mnProduct Durability: The overall duration and effectiveness of various vehicle components before they require replacement..\u001b[39;49m\u001b[38;5;130;43;01m\\\\\u001b[39;49;00m\u001b[38;5;124;43mn\u001b[39;49m\u001b[38;5;130;43;01m\\\\\u001b[39;49;00m\u001b[38;5;124;43mnWheel Nut Issues: Concerns related to the condition, handling, and replacement of wheel nuts during tire service..\u001b[39;49m\u001b[38;5;130;43;01m\\\\\u001b[39;49;00m\u001b[38;5;124;43mn\u001b[39;49m\u001b[38;5;130;43;01m\\\\\u001b[39;49;00m\u001b[38;5;124;43mnTire Pressure Guidelines: Comprehensive recommendations and specifications regarding tire air pressure for optimal performance..\u001b[39;49m\u001b[38;5;130;43;01m\\\\\u001b[39;49;00m\u001b[38;5;124;43mn\u001b[39;49m\u001b[38;5;130;43;01m\\\\\u001b[39;49;00m\u001b[38;5;124;43mnPickup And Drop-Off: A cluster focusing on the scheduled and actual timings related to vehicle pickup and drop-off services..\u001b[39;49m\u001b[38;5;130;43;01m\\\\\u001b[39;49;00m\u001b[38;5;124;43mn\u001b[39;49m\u001b[38;5;130;43;01m\\\\\u001b[39;49;00m\u001b[38;5;124;43mnVehicle Inspection Results: An overview of various outcomes related to vehicle inspections, including approval statuses and identified issues..\u001b[39;49m\u001b[38;5;130;43;01m\\\\\u001b[39;49;00m\u001b[38;5;124;43mn\u001b[39;49m\u001b[38;5;130;43;01m\\\\\u001b[39;49;00m\u001b[38;5;124;43mnSeasonal Tire Change: The act of swapping and managing tires according to seasonal weather conditions..\u001b[39;49m\u001b[38;5;130;43;01m\\\\\u001b[39;49;00m\u001b[38;5;124;43mn\u001b[39;49m\u001b[38;5;130;43;01m\\\\\u001b[39;49;00m\u001b[38;5;124;43mnFilter Maintenance: The comprehensive service involving the replacement and maintenance of various filters in vehicles to ensure optimal performance and air quality..\u001b[39;49m\u001b[38;5;130;43;01m\\\\\u001b[39;49;00m\u001b[38;5;124;43mn\u001b[39;49m\u001b[38;5;130;43;01m\\\\\u001b[39;49;00m\u001b[38;5;124;43mnTire Reliability: The consistent dependability and performance of tires under various conditions without problems..\u001b[39;49m\u001b[38;5;130;43;01m\\\\\u001b[39;49;00m\u001b[38;5;124;43mn\u001b[39;49m\u001b[38;5;130;43;01m\\\\\u001b[39;49;00m\u001b[38;5;124;43mnWinter Tire Installation: This topic focuses on the installation and servicing of winter tires for vehicles..\u001b[39;49m\u001b[38;5;130;43;01m\\\\\u001b[39;49;00m\u001b[38;5;124;43mn\u001b[39;49m\u001b[38;5;130;43;01m\\\\\u001b[39;49;00m\u001b[38;5;124;43mnTire Puncture Issues: Specific problems related to punctures caused by foreign objects in tires..\u001b[39;49m\u001b[38;5;130;43;01m\\\\\u001b[39;49;00m\u001b[38;5;124;43mn\u001b[39;49m\u001b[38;5;130;43;01m\\\\\u001b[39;49;00m\u001b[38;5;124;43mnMechanical Repair Services: Comprehensive services focused on the maintenance and repair of vehicle mechanical systems..\u001b[39;49m\u001b[38;5;130;43;01m\\\\\u001b[39;49;00m\u001b[38;5;124;43mn\u001b[39;49m\u001b[38;5;130;43;01m\\\\\u001b[39;49;00m\u001b[38;5;124;43mnDiagnosis Accuracy: The precision and reliability of vehicle diagnostics and problem identification..\u001b[39;49m\u001b[38;5;130;43;01m\\\\\u001b[39;49;00m\u001b[38;5;124;43mn\u001b[39;49m\u001b[38;5;130;43;01m\\\\\u001b[39;49;00m\u001b[38;5;124;43mnVehicle Failures: Various incidents of unexpected breakdowns and malfunctions affecting vehicle operation..\u001b[39;49m\u001b[38;5;130;43;01m\\\\\u001b[39;49;00m\u001b[38;5;124;43mn\u001b[39;49m\u001b[38;5;130;43;01m\\\\\u001b[39;49;00m\u001b[38;5;124;43mnEngine Warning Indicators: A category of warning lights related to potential issues with a vehicle\u001b[39;49m\u001b[38;5;124;43m'\u001b[39;49m\u001b[38;5;124;43ms engine or emissions system..\u001b[39;49m\u001b[38;5;130;43;01m\\\\\u001b[39;49;00m\u001b[38;5;124;43mn\u001b[39;49m\u001b[38;5;130;43;01m\\\\\u001b[39;49;00m\u001b[38;5;124;43mnService Failures: A collection of issues highlighting inadequate skills, poor organization, and lack of accountability in service delivery..\u001b[39;49m\u001b[38;5;130;43;01m\\\\\u001b[39;49;00m\u001b[38;5;124;43mn\u001b[39;49m\u001b[38;5;130;43;01m\\\\\u001b[39;49;00m\u001b[38;5;124;43mnPuncture Repair Services: The service dedicated to fixing slow punctures in tires..\u001b[39;49m\u001b[38;5;130;43;01m\\\\\u001b[39;49;00m\u001b[38;5;124;43mn\u001b[39;49m\u001b[38;5;130;43;01m\\\\\u001b[39;49;00m\u001b[38;5;124;43mnTire Service Response: The quick and efficient actions taken by technicians to address tire issues..\u001b[39;49m\u001b[38;5;130;43;01m\\\\\u001b[39;49;00m\u001b[38;5;124;43mn\u001b[39;49m\u001b[38;5;130;43;01m\\\\\u001b[39;49;00m\u001b[38;5;124;43mnTyre Fitting Services: A comprehensive overview of services related to the installation of tires, including mobile and location-based fitting options..\u001b[39;49m\u001b[38;5;130;43;01m\\\\\u001b[39;49;00m\u001b[38;5;124;43mn\u001b[39;49m\u001b[38;5;130;43;01m\\\\\u001b[39;49;00m\u001b[38;5;124;43mnTyre Availability: The status and accessibility of specific tyres available for customers..\u001b[39;49m\u001b[38;5;130;43;01m\\\\\u001b[39;49;00m\u001b[38;5;124;43mn\u001b[39;49m\u001b[38;5;130;43;01m\\\\\u001b[39;49;00m\u001b[38;5;124;43mnNut Tightening: The process and techniques used to securely fasten wheel nuts for safety and performance..\u001b[39;49m\u001b[38;5;130;43;01m\\\\\u001b[39;49;00m\u001b[38;5;124;43mn\u001b[39;49m\u001b[38;5;130;43;01m\\\\\u001b[39;49;00m\u001b[38;5;124;43mnCompetitor Analysis: An evaluation of service quality, pricing, and experiences compared to various competing tire service providers..\u001b[39;49m\u001b[38;5;130;43;01m\\\\\u001b[39;49;00m\u001b[38;5;124;43mn\u001b[39;49m\u001b[38;5;130;43;01m\\\\\u001b[39;49;00m\u001b[38;5;124;43mnTire Patch Services: The various methods and services related to repairing tires using patches..\u001b[39;49m\u001b[38;5;130;43;01m\\\\\u001b[39;49;00m\u001b[38;5;124;43mn\u001b[39;49m\u001b[38;5;130;43;01m\\\\\u001b[39;49;00m\u001b[38;5;124;43mnMaintenance Management: The organization and effectiveness of vehicle maintenance tasks and scheduling..\u001b[39;49m\u001b[38;5;130;43;01m\\\\\u001b[39;49;00m\u001b[38;5;124;43mn\u001b[39;49m\u001b[38;5;130;43;01m\\\\\u001b[39;49;00m\u001b[38;5;124;43mnQuality-Price Ratio: The assessment of the relationship between the quality and cost of tires, emphasizing their value for money..\u001b[39;49m\u001b[38;5;130;43;01m\\\\\u001b[39;49;00m\u001b[38;5;124;43mn\u001b[39;49m\u001b[38;5;130;43;01m\\\\\u001b[39;49;00m\u001b[38;5;124;43mnEngine Oil Management: The comprehensive assessment and concerns regarding the type, level, condition, and quality of engine oil in vehicles..\u001b[39;49m\u001b[38;5;130;43;01m\\\\\u001b[39;49;00m\u001b[38;5;124;43mn\u001b[39;49m\u001b[38;5;130;43;01m\\\\\u001b[39;49;00m\u001b[38;5;124;43mnAssembly And Disassembly: The processes and challenges involved in taking apart and putting back together vehicle components, particularly tires and rims..\u001b[39;49m\u001b[38;5;130;43;01m\\\\\u001b[39;49;00m\u001b[38;5;124;43mn\u001b[39;49m\u001b[38;5;130;43;01m\\\\\u001b[39;49;00m\u001b[38;5;124;43mnDashboard Warning Lights: Issues related to various dashboard warning lights showing malfunctions in the vehicle..\u001b[39;49m\u001b[38;5;130;43;01m\\\\\u001b[39;49;00m\u001b[38;5;124;43mn\u001b[39;49m\u001b[38;5;130;43;01m\\\\\u001b[39;49;00m\u001b[38;5;124;43mnPricing Comparison: An analysis of the service costs in relation to competitors and perceived value..\u001b[39;49m\u001b[38;5;130;43;01m\\\\\u001b[39;49;00m\u001b[38;5;124;43mn\u001b[39;49m\u001b[38;5;130;43;01m\\\\\u001b[39;49;00m\u001b[38;5;124;43mnGasket Mechanics: A focused discussion on issues, quality, and maintenance related to gaskets, particularly head gaskets, in vehicles..\u001b[39;49m\u001b[38;5;130;43;01m\\\\\u001b[39;49;00m\u001b[38;5;124;43mn\u001b[39;49m\u001b[38;5;130;43;01m\\\\\u001b[39;49;00m\u001b[38;5;124;43mnProduct Defects: Issues related to various defects and malfunctions encountered in automotive products and services..\u001b[39;49m\u001b[38;5;130;43;01m\\\\\u001b[39;49;00m\u001b[38;5;124;43mn\u001b[39;49m\u001b[38;5;130;43;01m\\\\\u001b[39;49;00m\u001b[38;5;124;43mnWheel Issues: Various problems and concerns relating to the performance and functionality of vehicle wheels..\u001b[39;49m\u001b[38;5;130;43;01m\\\\\u001b[39;49;00m\u001b[38;5;124;43mn\u001b[39;49m\u001b[38;5;130;43;01m\\\\\u001b[39;49;00m\u001b[38;5;124;43mnSuspension Spring Issues: A comprehensive overview of problems and solutions related to various types of suspension springs in vehicles..\u001b[39;49m\u001b[38;5;130;43;01m\\\\\u001b[39;49;00m\u001b[38;5;124;43mn\u001b[39;49m\u001b[38;5;130;43;01m\\\\\u001b[39;49;00m\u001b[38;5;124;43mnTire Safety: Measures and practices aimed at ensuring safety throughout the tire service and driving experience..\u001b[39;49m\u001b[38;5;130;43;01m\\\\\u001b[39;49;00m\u001b[38;5;124;43mn\u001b[39;49m\u001b[38;5;130;43;01m\\\\\u001b[39;49;00m\u001b[38;5;124;43mnAir Conditioning Effectiveness: The overall performance and functionality of the air conditioning system in vehicles, focusing on its ability to provide cool air efficiently..\u001b[39;49m\u001b[38;5;130;43;01m\\\\\u001b[39;49;00m\u001b[38;5;124;43mn\u001b[39;49m\u001b[38;5;130;43;01m\\\\\u001b[39;49;00m\u001b[38;5;124;43mnTire Repair Methods: Various techniques and methods for fixing punctures and damages in tires..\u001b[39;49m\u001b[38;5;130;43;01m\\\\\u001b[39;49;00m\u001b[38;5;124;43mn\u001b[39;49m\u001b[38;5;130;43;01m\\\\\u001b[39;49;00m\u001b[38;5;124;43mnTyre Inspection: The systematic evaluation of tire condition and safety to ensure optimal performance..\u001b[39;49m\u001b[38;5;130;43;01m\\\\\u001b[39;49;00m\u001b[38;5;124;43mn\u001b[39;49m\u001b[38;5;130;43;01m\\\\\u001b[39;49;00m\u001b[38;5;124;43mnCost Affordability: The extensive discussion around the reasonable and cost-effective pricing of services offered, catering to varied customer budgets and financial constraints.\u001b[39;49m\u001b[38;5;124;43m\"\u001b[39;49m\n\u001b[1;32m     24\u001b[0m \u001b[43m        \u001b[49m\u001b[43m}\u001b[49m\n\u001b[1;32m     25\u001b[0m \u001b[43m    \u001b[49m\u001b[43m]\u001b[49m\u001b[43m,\u001b[49m\n\u001b[1;32m     26\u001b[0m \u001b[43m    \u001b[49m\u001b[43mtools\u001b[49m\u001b[38;5;241;43m=\u001b[39;49m\u001b[43mtools\u001b[49m\u001b[43m,\u001b[49m\n\u001b[1;32m     27\u001b[0m \u001b[43m    \u001b[49m\u001b[43mtool_choice\u001b[49m\u001b[38;5;241;43m=\u001b[39;49m\u001b[43m{\u001b[49m\u001b[38;5;124;43m\"\u001b[39;49m\u001b[38;5;124;43mtype\u001b[39;49m\u001b[38;5;124;43m\"\u001b[39;49m\u001b[43m:\u001b[49m\u001b[43m \u001b[49m\u001b[38;5;124;43m\"\u001b[39;49m\u001b[38;5;124;43mtool\u001b[39;49m\u001b[38;5;124;43m\"\u001b[39;49m\u001b[43m,\u001b[49m\u001b[43m \u001b[49m\u001b[38;5;124;43m\"\u001b[39;49m\u001b[38;5;124;43mname\u001b[39;49m\u001b[38;5;124;43m\"\u001b[39;49m\u001b[43m:\u001b[49m\u001b[43m \u001b[49m\u001b[38;5;124;43m\"\u001b[39;49m\u001b[38;5;124;43mbuild_categorizer_agent_result\u001b[39;49m\u001b[38;5;124;43m\"\u001b[39;49m\u001b[43m}\u001b[49m\n\u001b[1;32m     28\u001b[0m \u001b[43m)\u001b[49m\n\u001b[1;32m     30\u001b[0m \u001b[38;5;28mprint\u001b[39m(response\u001b[38;5;241m.\u001b[39mchoices[\u001b[38;5;241m0\u001b[39m]\u001b[38;5;241m.\u001b[39mmessage\u001b[38;5;241m.\u001b[39mcontent)\n",
      "File \u001b[0;32m~/Work/BigIfTree/.venv/lib/python3.12/site-packages/litellm/utils.py:960\u001b[0m, in \u001b[0;36mclient.<locals>.wrapper\u001b[0;34m(*args, **kwargs)\u001b[0m\n\u001b[1;32m    956\u001b[0m \u001b[38;5;28;01mif\u001b[39;00m logging_obj:\n\u001b[1;32m    957\u001b[0m     logging_obj\u001b[38;5;241m.\u001b[39mfailure_handler(\n\u001b[1;32m    958\u001b[0m         e, traceback_exception, start_time, end_time\n\u001b[1;32m    959\u001b[0m     )  \u001b[38;5;66;03m# DO NOT MAKE THREADED - router retry fallback relies on this!\u001b[39;00m\n\u001b[0;32m--> 960\u001b[0m \u001b[38;5;28;01mraise\u001b[39;00m e\n",
      "File \u001b[0;32m~/Work/BigIfTree/.venv/lib/python3.12/site-packages/litellm/utils.py:849\u001b[0m, in \u001b[0;36mclient.<locals>.wrapper\u001b[0;34m(*args, **kwargs)\u001b[0m\n\u001b[1;32m    847\u001b[0m         print_verbose(\u001b[38;5;124mf\u001b[39m\u001b[38;5;124m\"\u001b[39m\u001b[38;5;124mError while checking max token limit: \u001b[39m\u001b[38;5;132;01m{\u001b[39;00m\u001b[38;5;28mstr\u001b[39m(e)\u001b[38;5;132;01m}\u001b[39;00m\u001b[38;5;124m\"\u001b[39m)\n\u001b[1;32m    848\u001b[0m \u001b[38;5;66;03m# MODEL CALL\u001b[39;00m\n\u001b[0;32m--> 849\u001b[0m result \u001b[38;5;241m=\u001b[39m \u001b[43moriginal_function\u001b[49m\u001b[43m(\u001b[49m\u001b[38;5;241;43m*\u001b[39;49m\u001b[43margs\u001b[49m\u001b[43m,\u001b[49m\u001b[43m \u001b[49m\u001b[38;5;241;43m*\u001b[39;49m\u001b[38;5;241;43m*\u001b[39;49m\u001b[43mkwargs\u001b[49m\u001b[43m)\u001b[49m\n\u001b[1;32m    850\u001b[0m end_time \u001b[38;5;241m=\u001b[39m datetime\u001b[38;5;241m.\u001b[39mdatetime\u001b[38;5;241m.\u001b[39mnow()\n\u001b[1;32m    851\u001b[0m \u001b[38;5;28;01mif\u001b[39;00m \u001b[38;5;124m\"\u001b[39m\u001b[38;5;124mstream\u001b[39m\u001b[38;5;124m\"\u001b[39m \u001b[38;5;129;01min\u001b[39;00m kwargs \u001b[38;5;129;01mand\u001b[39;00m kwargs[\u001b[38;5;124m\"\u001b[39m\u001b[38;5;124mstream\u001b[39m\u001b[38;5;124m\"\u001b[39m] \u001b[38;5;129;01mis\u001b[39;00m \u001b[38;5;28;01mTrue\u001b[39;00m:\n",
      "File \u001b[0;32m~/Work/BigIfTree/.venv/lib/python3.12/site-packages/litellm/main.py:3059\u001b[0m, in \u001b[0;36mcompletion\u001b[0;34m(model, messages, timeout, temperature, top_p, n, stream, stream_options, stop, max_completion_tokens, max_tokens, modalities, prediction, audio, presence_penalty, frequency_penalty, logit_bias, user, response_format, seed, tools, tool_choice, logprobs, top_logprobs, parallel_tool_calls, deployment_id, extra_headers, functions, function_call, base_url, api_version, api_key, model_list, **kwargs)\u001b[0m\n\u001b[1;32m   3056\u001b[0m     \u001b[38;5;28;01mreturn\u001b[39;00m response\n\u001b[1;32m   3057\u001b[0m \u001b[38;5;28;01mexcept\u001b[39;00m \u001b[38;5;167;01mException\u001b[39;00m \u001b[38;5;28;01mas\u001b[39;00m e:\n\u001b[1;32m   3058\u001b[0m     \u001b[38;5;66;03m## Map to OpenAI Exception\u001b[39;00m\n\u001b[0;32m-> 3059\u001b[0m     \u001b[38;5;28;01mraise\u001b[39;00m \u001b[43mexception_type\u001b[49m\u001b[43m(\u001b[49m\n\u001b[1;32m   3060\u001b[0m \u001b[43m        \u001b[49m\u001b[43mmodel\u001b[49m\u001b[38;5;241;43m=\u001b[39;49m\u001b[43mmodel\u001b[49m\u001b[43m,\u001b[49m\n\u001b[1;32m   3061\u001b[0m \u001b[43m        \u001b[49m\u001b[43mcustom_llm_provider\u001b[49m\u001b[38;5;241;43m=\u001b[39;49m\u001b[43mcustom_llm_provider\u001b[49m\u001b[43m,\u001b[49m\n\u001b[1;32m   3062\u001b[0m \u001b[43m        \u001b[49m\u001b[43moriginal_exception\u001b[49m\u001b[38;5;241;43m=\u001b[39;49m\u001b[43me\u001b[49m\u001b[43m,\u001b[49m\n\u001b[1;32m   3063\u001b[0m \u001b[43m        \u001b[49m\u001b[43mcompletion_kwargs\u001b[49m\u001b[38;5;241;43m=\u001b[39;49m\u001b[43margs\u001b[49m\u001b[43m,\u001b[49m\n\u001b[1;32m   3064\u001b[0m \u001b[43m        \u001b[49m\u001b[43mextra_kwargs\u001b[49m\u001b[38;5;241;43m=\u001b[39;49m\u001b[43mkwargs\u001b[49m\u001b[43m,\u001b[49m\n\u001b[1;32m   3065\u001b[0m \u001b[43m    \u001b[49m\u001b[43m)\u001b[49m\n",
      "File \u001b[0;32m~/Work/BigIfTree/.venv/lib/python3.12/site-packages/litellm/litellm_core_utils/exception_mapping_utils.py:2136\u001b[0m, in \u001b[0;36mexception_type\u001b[0;34m(model, original_exception, custom_llm_provider, completion_kwargs, extra_kwargs)\u001b[0m\n\u001b[1;32m   2134\u001b[0m \u001b[38;5;28;01mif\u001b[39;00m exception_mapping_worked:\n\u001b[1;32m   2135\u001b[0m     \u001b[38;5;28msetattr\u001b[39m(e, \u001b[38;5;124m\"\u001b[39m\u001b[38;5;124mlitellm_response_headers\u001b[39m\u001b[38;5;124m\"\u001b[39m, litellm_response_headers)\n\u001b[0;32m-> 2136\u001b[0m     \u001b[38;5;28;01mraise\u001b[39;00m e\n\u001b[1;32m   2137\u001b[0m \u001b[38;5;28;01melse\u001b[39;00m:\n\u001b[1;32m   2138\u001b[0m     \u001b[38;5;28;01mfor\u001b[39;00m error_type \u001b[38;5;129;01min\u001b[39;00m litellm\u001b[38;5;241m.\u001b[39mLITELLM_EXCEPTION_TYPES:\n",
      "File \u001b[0;32m~/Work/BigIfTree/.venv/lib/python3.12/site-packages/litellm/litellm_core_utils/exception_mapping_utils.py:469\u001b[0m, in \u001b[0;36mexception_type\u001b[0;34m(model, original_exception, custom_llm_provider, completion_kwargs, extra_kwargs)\u001b[0m\n\u001b[1;32m    464\u001b[0m \u001b[38;5;28;01melif\u001b[39;00m (\n\u001b[1;32m    465\u001b[0m     original_exception\u001b[38;5;241m.\u001b[39mstatus_code \u001b[38;5;241m==\u001b[39m \u001b[38;5;241m400\u001b[39m\n\u001b[1;32m    466\u001b[0m     \u001b[38;5;129;01mor\u001b[39;00m original_exception\u001b[38;5;241m.\u001b[39mstatus_code \u001b[38;5;241m==\u001b[39m \u001b[38;5;241m413\u001b[39m\n\u001b[1;32m    467\u001b[0m ):\n\u001b[1;32m    468\u001b[0m     exception_mapping_worked \u001b[38;5;241m=\u001b[39m \u001b[38;5;28;01mTrue\u001b[39;00m\n\u001b[0;32m--> 469\u001b[0m     \u001b[38;5;28;01mraise\u001b[39;00m BadRequestError(\n\u001b[1;32m    470\u001b[0m         message\u001b[38;5;241m=\u001b[39m\u001b[38;5;124mf\u001b[39m\u001b[38;5;124m\"\u001b[39m\u001b[38;5;124mAnthropicException - \u001b[39m\u001b[38;5;132;01m{\u001b[39;00merror_str\u001b[38;5;132;01m}\u001b[39;00m\u001b[38;5;124m\"\u001b[39m,\n\u001b[1;32m    471\u001b[0m         model\u001b[38;5;241m=\u001b[39mmodel,\n\u001b[1;32m    472\u001b[0m         llm_provider\u001b[38;5;241m=\u001b[39m\u001b[38;5;124m\"\u001b[39m\u001b[38;5;124manthropic\u001b[39m\u001b[38;5;124m\"\u001b[39m,\n\u001b[1;32m    473\u001b[0m     )\n\u001b[1;32m    474\u001b[0m \u001b[38;5;28;01melif\u001b[39;00m original_exception\u001b[38;5;241m.\u001b[39mstatus_code \u001b[38;5;241m==\u001b[39m \u001b[38;5;241m404\u001b[39m:\n\u001b[1;32m    475\u001b[0m     exception_mapping_worked \u001b[38;5;241m=\u001b[39m \u001b[38;5;28;01mTrue\u001b[39;00m\n",
      "\u001b[0;31mBadRequestError\u001b[0m: litellm.BadRequestError: AnthropicException - {\"type\":\"error\",\"error\":{\"type\":\"invalid_request_error\",\"message\":\"tool_choice.tool.name: Field required\"}}"
     ]
    }
   ],
   "source": [
    "from litellm import completion\n",
    "\n",
    "topic_categorization_schema = Categorizer_Agent_Output.model_json_schema()\n",
    "tools = [\n",
    "    {\n",
    "        \"name\": \"build_categorizer_agent_result\",\n",
    "        \"description\": \"build the Categorizer output object\", \n",
    "        \"input_schema\": topic_categorization_schema\n",
    "    }\n",
    "]\n",
    "\n",
    "response = completion(\n",
    "    model=\"anthropic/claude-3-5-sonnet-20241022\",\n",
    "    max_tokens=1000,\n",
    "    temperature=0,\n",
    "    messages=[\n",
    "        {\n",
    "            \"role\": \"system\",\n",
    "            \"content\":\"You are a taxonomy expert in customer reviews. \\nYou are given a list of topics and descriptions from the domain {domain}.\\nYour task is to group these topics into high-level categories that make sense for a customer review analysis.\\n\\nGuidelines:\\n1) Every topic must be included in a category.\\n2) Each category should have a name and a one-sentence description.\\n3) The category names should represent the all of the topics that belong to the category.\\n4) The categories should be distinct from each other.\\n5) The categories can vary in size.\\n\\nImportant:\\n- Do not leave any topics uncategorized.\\n- For outlier topics, create a new category for them.\",\n",
    "        },\n",
    "        {\n",
    "            \"role\": \"user\",\n",
    "            \"content\": \"Customer Support: The overall quality of assistance and support provided by staff to customers..\\\\n\\\\nSpare Tire Issues: Concerns and inquiries regarding the availability, inclusion, and condition of spare tires for vehicles..\\\\n\\\\nPricing Clarity: The clear and open communication about costs associated with services, ensuring transparency and avoiding hidden fees..\\\\n\\\\nTyre Repair Services: A focus on the services offered for fixing damaged tyres..\\\\n\\\\nBrake Issues: Concerns and problems related to the performance, condition, and functionality of vehicle braking systems..\\\\n\\\\nService Pricing: A comprehensive overview of customer perceptions regarding the affordability and fairness of service costs..\\\\n\\\\nAffordable Pricing: This topic encompasses the overall perception of cost-effectiveness and fairness in pricing for tires and related services..\\\\n\\\\nTire Problems: Various issues related to tires, including damage caused by screws or nails and incorrect mounting..\\\\n\\\\nTorque Tools: A category of tools focused on ensuring the proper application of torque for tightening or loosening fasteners..\\\\n\\\\nSteering Issues: Concerns and problems related to the functionality and alignment of vehicle steering mechanisms..\\\\n\\\\nPerformance Evaluation: The process of assessing the vehicle's performance through test drives and evaluations post-service..\\\\n\\\\nBrake Pad Replacement: A comprehensive process involving the removal, installation, and servicing of brake pads to maintain vehicle safety and performance..\\\\n\\\\nTesla Service Expertise: A comprehensive understanding and specialized capability in servicing Tesla vehicles and electric vehicles..\\\\n\\\\nProduct Durability: The overall duration and effectiveness of various vehicle components before they require replacement..\\\\n\\\\nWheel Nut Issues: Concerns related to the condition, handling, and replacement of wheel nuts during tire service..\\\\n\\\\nTire Pressure Guidelines: Comprehensive recommendations and specifications regarding tire air pressure for optimal performance..\\\\n\\\\nPickup And Drop-Off: A cluster focusing on the scheduled and actual timings related to vehicle pickup and drop-off services..\\\\n\\\\nVehicle Inspection Results: An overview of various outcomes related to vehicle inspections, including approval statuses and identified issues..\\\\n\\\\nSeasonal Tire Change: The act of swapping and managing tires according to seasonal weather conditions..\\\\n\\\\nFilter Maintenance: The comprehensive service involving the replacement and maintenance of various filters in vehicles to ensure optimal performance and air quality..\\\\n\\\\nTire Reliability: The consistent dependability and performance of tires under various conditions without problems..\\\\n\\\\nWinter Tire Installation: This topic focuses on the installation and servicing of winter tires for vehicles..\\\\n\\\\nTire Puncture Issues: Specific problems related to punctures caused by foreign objects in tires..\\\\n\\\\nMechanical Repair Services: Comprehensive services focused on the maintenance and repair of vehicle mechanical systems..\\\\n\\\\nDiagnosis Accuracy: The precision and reliability of vehicle diagnostics and problem identification..\\\\n\\\\nVehicle Failures: Various incidents of unexpected breakdowns and malfunctions affecting vehicle operation..\\\\n\\\\nEngine Warning Indicators: A category of warning lights related to potential issues with a vehicle's engine or emissions system..\\\\n\\\\nService Failures: A collection of issues highlighting inadequate skills, poor organization, and lack of accountability in service delivery..\\\\n\\\\nPuncture Repair Services: The service dedicated to fixing slow punctures in tires..\\\\n\\\\nTire Service Response: The quick and efficient actions taken by technicians to address tire issues..\\\\n\\\\nTyre Fitting Services: A comprehensive overview of services related to the installation of tires, including mobile and location-based fitting options..\\\\n\\\\nTyre Availability: The status and accessibility of specific tyres available for customers..\\\\n\\\\nNut Tightening: The process and techniques used to securely fasten wheel nuts for safety and performance..\\\\n\\\\nCompetitor Analysis: An evaluation of service quality, pricing, and experiences compared to various competing tire service providers..\\\\n\\\\nTire Patch Services: The various methods and services related to repairing tires using patches..\\\\n\\\\nMaintenance Management: The organization and effectiveness of vehicle maintenance tasks and scheduling..\\\\n\\\\nQuality-Price Ratio: The assessment of the relationship between the quality and cost of tires, emphasizing their value for money..\\\\n\\\\nEngine Oil Management: The comprehensive assessment and concerns regarding the type, level, condition, and quality of engine oil in vehicles..\\\\n\\\\nAssembly And Disassembly: The processes and challenges involved in taking apart and putting back together vehicle components, particularly tires and rims..\\\\n\\\\nDashboard Warning Lights: Issues related to various dashboard warning lights showing malfunctions in the vehicle..\\\\n\\\\nPricing Comparison: An analysis of the service costs in relation to competitors and perceived value..\\\\n\\\\nGasket Mechanics: A focused discussion on issues, quality, and maintenance related to gaskets, particularly head gaskets, in vehicles..\\\\n\\\\nProduct Defects: Issues related to various defects and malfunctions encountered in automotive products and services..\\\\n\\\\nWheel Issues: Various problems and concerns relating to the performance and functionality of vehicle wheels..\\\\n\\\\nSuspension Spring Issues: A comprehensive overview of problems and solutions related to various types of suspension springs in vehicles..\\\\n\\\\nTire Safety: Measures and practices aimed at ensuring safety throughout the tire service and driving experience..\\\\n\\\\nAir Conditioning Effectiveness: The overall performance and functionality of the air conditioning system in vehicles, focusing on its ability to provide cool air efficiently..\\\\n\\\\nTire Repair Methods: Various techniques and methods for fixing punctures and damages in tires..\\\\n\\\\nTyre Inspection: The systematic evaluation of tire condition and safety to ensure optimal performance..\\\\n\\\\nCost Affordability: The extensive discussion around the reasonable and cost-effective pricing of services offered, catering to varied customer budgets and financial constraints.\"\n",
    "        }\n",
    "    ],\n",
    "    tools=tools,\n",
    "    tool_choice={\"type\": \"tool\", \"name\": \"build_categorizer_agent_result\"}\n",
    ")\n",
    "\n",
    "print(response.choices[0].message.content)"
   ]
  }
 ],
 "metadata": {
  "kernelspec": {
   "display_name": ".venv",
   "language": "python",
   "name": "python3"
  },
  "language_info": {
   "codemirror_mode": {
    "name": "ipython",
    "version": 3
   },
   "file_extension": ".py",
   "mimetype": "text/x-python",
   "name": "python",
   "nbconvert_exporter": "python",
   "pygments_lexer": "ipython3",
   "version": "3.12.0"
  }
 },
 "nbformat": 4,
 "nbformat_minor": 2
}
